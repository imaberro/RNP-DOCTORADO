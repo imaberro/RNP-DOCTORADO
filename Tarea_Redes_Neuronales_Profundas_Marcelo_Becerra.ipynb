{
  "nbformat": 4,
  "nbformat_minor": 0,
  "metadata": {
    "colab": {
      "name": "Tarea Redes Neuronales Profundas - Marcelo Becerra.ipynb",
      "provenance": [],
      "collapsed_sections": []
    },
    "kernelspec": {
      "name": "python3",
      "display_name": "Python 3"
    },
    "accelerator": "GPU"
  },
  "cells": [
    {
      "cell_type": "markdown",
      "metadata": {
        "id": "Tg_UNV7Y3IPi"
      },
      "source": [
        "# Implementando Arquitectura VGG"
      ]
    },
    {
      "cell_type": "markdown",
      "metadata": {
        "id": "9Hyzh2gz3Rzj"
      },
      "source": [
        "Se importa un repositorio en github asociado a Marcelo Becerra Rozas de RUT: 19.339.344-6 alumno del ramo de Redes Neuronales Profundas. El objetivo de esto es, para facilidad de uso de los dataSets"
      ]
    },
    {
      "cell_type": "code",
      "metadata": {
        "colab": {
          "base_uri": "https://localhost:8080/"
        },
        "id": "hdOmgAYBtmDT",
        "outputId": "6bdeb63d-4569-4737-a96b-c34de4491803"
      },
      "source": [
        "!git clone https://github.com/imaberro/RNP-DOCTORADO.git"
      ],
      "execution_count": null,
      "outputs": [
        {
          "output_type": "stream",
          "text": [
            "Cloning into 'RNP-DOCTORADO'...\n",
            "remote: Enumerating objects: 1125, done.\u001b[K\n",
            "remote: Counting objects: 100% (1125/1125), done.\u001b[K\n",
            "remote: Compressing objects: 100% (1109/1109), done.\u001b[K\n",
            "remote: Total 122102 (delta 8), reused 1124 (delta 8), pack-reused 120977\u001b[K\n",
            "Receiving objects: 100% (122102/122102), 215.37 MiB | 29.91 MiB/s, done.\n",
            "Resolving deltas: 100% (1116/1116), done.\n",
            "Checking out files: 100% (132649/132649), done.\n"
          ],
          "name": "stdout"
        }
      ]
    },
    {
      "cell_type": "code",
      "metadata": {
        "colab": {
          "base_uri": "https://localhost:8080/"
        },
        "id": "3ctKN2Cstory",
        "outputId": "584a7719-d8ae-498c-d940-f80434660aa1"
      },
      "source": [
        "\n",
        "# Librerías de Keras\n",
        "from keras.models import Sequential\n",
        "from keras.layers import Conv2D\n",
        "from keras.layers import MaxPooling2D\n",
        "from keras.layers import Flatten\n",
        "from keras.layers import Dense\n",
        "from keras.layers import BatchNormalization\n",
        "from keras.optimizers import Adam\n",
        "from keras import regularizers\n",
        "from keras.layers import ZeroPadding2D\n",
        "\n",
        "from keras.callbacks import CSVLogger\n",
        "\n",
        "from tensorflow.python.client import device_lib\n",
        "print(device_lib.list_local_devices())\n",
        "\n"
      ],
      "execution_count": 16,
      "outputs": [
        {
          "output_type": "stream",
          "text": [
            "[name: \"/device:CPU:0\"\n",
            "device_type: \"CPU\"\n",
            "memory_limit: 268435456\n",
            "locality {\n",
            "}\n",
            "incarnation: 14544301689171867894\n",
            ", name: \"/device:XLA_CPU:0\"\n",
            "device_type: \"XLA_CPU\"\n",
            "memory_limit: 17179869184\n",
            "locality {\n",
            "}\n",
            "incarnation: 18095837452286313450\n",
            "physical_device_desc: \"device: XLA_CPU device\"\n",
            ", name: \"/device:XLA_GPU:0\"\n",
            "device_type: \"XLA_GPU\"\n",
            "memory_limit: 17179869184\n",
            "locality {\n",
            "}\n",
            "incarnation: 7218078182042197054\n",
            "physical_device_desc: \"device: XLA_GPU device\"\n",
            ", name: \"/device:GPU:0\"\n",
            "device_type: \"GPU\"\n",
            "memory_limit: 14640891840\n",
            "locality {\n",
            "  bus_id: 1\n",
            "  links {\n",
            "  }\n",
            "}\n",
            "incarnation: 8590604096116460759\n",
            "physical_device_desc: \"device: 0, name: Tesla T4, pci bus id: 0000:00:04.0, compute capability: 7.5\"\n",
            "]\n"
          ],
          "name": "stdout"
        }
      ]
    },
    {
      "cell_type": "code",
      "metadata": {
        "id": "cpx1TYWhuEby"
      },
      "source": [
        "# Inicializamos la red convolucional\n",
        "classifier = Sequential()"
      ],
      "execution_count": 17,
      "outputs": []
    },
    {
      "cell_type": "code",
      "metadata": {
        "id": "nC6XocnYuFtt"
      },
      "source": [
        "#Convoluciones\n",
        "classifier.add(Conv2D(32, (2, 2), input_shape = (64, 64, 3), activation = 'relu'))\n",
        "classifier.add(BatchNormalization())\n",
        "\n",
        "classifier.add(Conv2D(32, (2, 1), activation = 'relu'))\n",
        "classifier.add(BatchNormalization())\n",
        "\n",
        "classifier.add(Conv2D(32, (1, 2), activation = 'relu'))\n",
        "classifier.add(BatchNormalization())\n",
        "\n",
        "# Agregamos más layers convolucionales\n",
        "classifier.add(MaxPooling2D(pool_size = (2, 2)))\n",
        "\n",
        "classifier.add(Conv2D(48, (2, 2), activation = 'relu'))\n",
        "classifier.add(BatchNormalization())\n",
        "\n",
        "classifier.add(Conv2D(48, (2, 2), activation = 'relu'))\n",
        "classifier.add(BatchNormalization())\n",
        "\n",
        "classifier.add(Conv2D(48, (2, 2), activation = 'relu'))\n",
        "classifier.add(BatchNormalization())\n",
        "\n",
        "# Agregamos más layers convolucionales\n",
        "classifier.add(MaxPooling2D(pool_size = (2, 2)))\n",
        "\n",
        "classifier.add(Conv2D(64, (2, 2), activation = 'relu'))\n",
        "classifier.add(BatchNormalization())\n",
        "\n",
        "classifier.add(Conv2D(64, (2, 2), activation = 'relu'))\n",
        "classifier.add(BatchNormalization())\n",
        "\n",
        "classifier.add(Conv2D(64, (2, 2), activation = 'relu'))\n",
        "classifier.add(BatchNormalization())\n",
        "\n",
        "# Agregamos más layers convolucionales\n",
        "classifier.add(MaxPooling2D(pool_size = (2, 2)))\n",
        "\n",
        "classifier.add(Conv2D(80, (2, 2), activation = 'relu'))\n",
        "classifier.add(BatchNormalization())\n",
        "\n",
        "classifier.add(Conv2D(80, (2, 2), activation = 'relu'))\n",
        "classifier.add(BatchNormalization())\n",
        "\n",
        "classifier.add(Conv2D(80, (2, 2), activation = 'relu'))\n",
        "classifier.add(BatchNormalization())\n",
        "\n",
        "# Agregamos más layers convolucionales\n",
        "classifier.add(MaxPooling2D(pool_size = (2, 2)))\n",
        "\n",
        "classifier.add(ZeroPadding2D((1,1)))\n",
        "classifier.add(Conv2D(96, (2, 2), activation = 'relu'))\n",
        "classifier.add(BatchNormalization())\n",
        "\n",
        "classifier.add(ZeroPadding2D((1,1)))\n",
        "classifier.add(Conv2D(96, (2, 2), activation = 'relu'))\n",
        "classifier.add(BatchNormalization())\n",
        "\n",
        "classifier.add(ZeroPadding2D((1,1)))\n",
        "classifier.add(Conv2D(96, (2, 2), activation = 'relu'))\n",
        "classifier.add(BatchNormalization())\n",
        "\n",
        "classifier.add(MaxPooling2D(pool_size = (2, 2)))\n",
        "\n",
        "classifier.add(Flatten())\n",
        "\n",
        "classifier.add(Dense(units = 800, activation = 'relu', kernel_initializer='glorot_uniform', kernel_regularizer=regularizers.l2(0.00001)))\n",
        "classifier.add(Dense(units = 800, activation = 'relu', kernel_initializer='glorot_uniform', kernel_regularizer=regularizers.l2(0.00001)))\n",
        "classifier.add(Dense(units = 200, activation = 'softmax'))\n"
      ],
      "execution_count": 18,
      "outputs": []
    },
    {
      "cell_type": "code",
      "metadata": {
        "id": "U4_spnweuOi9"
      },
      "source": [
        "# Compilamos la red\n",
        "\n",
        "from keras.callbacks import LearningRateScheduler\n",
        "learning_rate = 1e-4\n",
        "lr = 0.001\n",
        "def updateLR(epoch, lr):\n",
        "    if(epoch % 10 == 0 and epoch !=0):\n",
        "        lr *= 0.5\n",
        "        print(\"update\",lr)\n",
        "    return lr\n",
        "\n",
        "lrate = LearningRateScheduler(updateLR)\n",
        "\n",
        "Adam = Adam(lr=0.001, beta_1=0.9, beta_2=0.999, epsilon=None, decay=0.00014, amsgrad=False)\n",
        "classifier.compile(optimizer = Adam, loss = 'categorical_crossentropy', metrics = ['accuracy'])"
      ],
      "execution_count": 19,
      "outputs": []
    },
    {
      "cell_type": "code",
      "metadata": {
        "colab": {
          "base_uri": "https://localhost:8080/"
        },
        "id": "JaD2Ajwcucu4",
        "outputId": "6ba087a0-b2b3-4125-e5a1-bf49c2ace345"
      },
      "source": [
        "# Ajustamos la red a las imágenes\n",
        "\n",
        "from keras.preprocessing.image import ImageDataGenerator\n",
        "\n",
        "train_datagen = ImageDataGenerator(rescale = 1./255,\n",
        "                                   shear_range = 0.2,\n",
        "                                   zoom_range = 0.2,\n",
        "                                   horizontal_flip = True)\n",
        "\n",
        "test_datagen = ImageDataGenerator(rescale = 1./255)\n",
        "\n",
        "training_set = train_datagen.flow_from_directory('/content/RNP-DOCTORADO/DataImages/train',\n",
        "                                                 target_size = (64, 64),\n",
        "                                                 batch_size = 23,\n",
        "                                                 class_mode = 'categorical')\n",
        "\n",
        "test_set = test_datagen.flow_from_directory('/content/RNP-DOCTORADO/DataImages/validation',\n",
        "                                            target_size = (64, 64),\n",
        "                                            batch_size = 23,\n",
        "                                            class_mode = 'categorical')\n",
        "csv_logger = CSVLogger('training.log')\n",
        "history = classifier.fit_generator(training_set,\n",
        "                         epochs = 30,\n",
        "                         validation_data = test_set,\n",
        "                         verbose=1,\n",
        "                         callbacks=[lrate])\n"
      ],
      "execution_count": 21,
      "outputs": [
        {
          "output_type": "stream",
          "text": [
            "Found 100000 images belonging to 200 classes.\n",
            "Found 10000 images belonging to 200 classes.\n",
            "Epoch 1/30\n",
            "4348/4348 [==============================] - 182s 42ms/step - loss: 4.7278 - accuracy: 0.0380 - val_loss: 4.7032 - val_accuracy: 0.0383\n",
            "Epoch 2/30\n",
            "4348/4348 [==============================] - 181s 42ms/step - loss: 4.6646 - accuracy: 0.0433 - val_loss: 4.6476 - val_accuracy: 0.0430\n",
            "Epoch 3/30\n",
            "4348/4348 [==============================] - 182s 42ms/step - loss: 4.6195 - accuracy: 0.0468 - val_loss: 4.6142 - val_accuracy: 0.0477\n",
            "Epoch 4/30\n",
            "4348/4348 [==============================] - 181s 42ms/step - loss: 4.5787 - accuracy: 0.0514 - val_loss: 4.5900 - val_accuracy: 0.0430\n",
            "Epoch 5/30\n",
            "4348/4348 [==============================] - 180s 41ms/step - loss: 4.5502 - accuracy: 0.0539 - val_loss: 4.5747 - val_accuracy: 0.0500\n",
            "Epoch 6/30\n",
            "4348/4348 [==============================] - 180s 41ms/step - loss: 4.5178 - accuracy: 0.0571 - val_loss: 4.5109 - val_accuracy: 0.0559\n",
            "Epoch 7/30\n",
            "4348/4348 [==============================] - 182s 42ms/step - loss: 4.4881 - accuracy: 0.0591 - val_loss: 4.5094 - val_accuracy: 0.0564\n",
            "Epoch 8/30\n",
            "4348/4348 [==============================] - 180s 41ms/step - loss: 4.4626 - accuracy: 0.0620 - val_loss: 4.5176 - val_accuracy: 0.0567\n",
            "Epoch 9/30\n",
            "4348/4348 [==============================] - 180s 42ms/step - loss: 4.4368 - accuracy: 0.0661 - val_loss: 4.4653 - val_accuracy: 0.0613\n",
            "Epoch 10/30\n",
            "4348/4348 [==============================] - 183s 42ms/step - loss: 4.4088 - accuracy: 0.0682 - val_loss: 4.3838 - val_accuracy: 0.0709\n",
            "update 0.0005000000237487257\n",
            "Epoch 11/30\n",
            "4348/4348 [==============================] - 183s 42ms/step - loss: 4.3730 - accuracy: 0.0730 - val_loss: 4.4041 - val_accuracy: 0.0673\n",
            "Epoch 12/30\n",
            "4348/4348 [==============================] - 182s 42ms/step - loss: 4.3525 - accuracy: 0.0761 - val_loss: 4.3783 - val_accuracy: 0.0696\n",
            "Epoch 13/30\n",
            "4348/4348 [==============================] - 181s 42ms/step - loss: 4.3344 - accuracy: 0.0780 - val_loss: 4.3468 - val_accuracy: 0.0759\n",
            "Epoch 14/30\n",
            "4348/4348 [==============================] - 182s 42ms/step - loss: 4.3172 - accuracy: 0.0805 - val_loss: 4.3518 - val_accuracy: 0.0757\n",
            "Epoch 15/30\n",
            "4348/4348 [==============================] - 183s 42ms/step - loss: 4.3058 - accuracy: 0.0805 - val_loss: 4.3461 - val_accuracy: 0.0749\n",
            "Epoch 16/30\n",
            "4348/4348 [==============================] - 184s 42ms/step - loss: 4.2846 - accuracy: 0.0840 - val_loss: 4.3246 - val_accuracy: 0.0762\n",
            "Epoch 17/30\n",
            "4348/4348 [==============================] - 182s 42ms/step - loss: 4.2693 - accuracy: 0.0857 - val_loss: 4.3173 - val_accuracy: 0.0789\n",
            "Epoch 18/30\n",
            "4348/4348 [==============================] - 183s 42ms/step - loss: 4.2595 - accuracy: 0.0874 - val_loss: 4.3054 - val_accuracy: 0.0843\n",
            "Epoch 19/30\n",
            "4348/4348 [==============================] - 183s 42ms/step - loss: 4.2476 - accuracy: 0.0904 - val_loss: 4.2801 - val_accuracy: 0.0838\n",
            "Epoch 20/30\n",
            "4348/4348 [==============================] - 183s 42ms/step - loss: 4.2343 - accuracy: 0.0913 - val_loss: 4.2566 - val_accuracy: 0.0872\n",
            "update 0.0002500000118743628\n",
            "Epoch 21/30\n",
            "4348/4348 [==============================] - 184s 42ms/step - loss: 4.2160 - accuracy: 0.0934 - val_loss: 4.2561 - val_accuracy: 0.0882\n",
            "Epoch 22/30\n",
            "4348/4348 [==============================] - 183s 42ms/step - loss: 4.2141 - accuracy: 0.0942 - val_loss: 4.2629 - val_accuracy: 0.0881\n",
            "Epoch 23/30\n",
            "4348/4348 [==============================] - 183s 42ms/step - loss: 4.2047 - accuracy: 0.0960 - val_loss: 4.2479 - val_accuracy: 0.0904\n",
            "Epoch 24/30\n",
            "4348/4348 [==============================] - 183s 42ms/step - loss: 4.1987 - accuracy: 0.0956 - val_loss: 4.2387 - val_accuracy: 0.0915\n",
            "Epoch 25/30\n",
            "4348/4348 [==============================] - 182s 42ms/step - loss: 4.1953 - accuracy: 0.0962 - val_loss: 4.2363 - val_accuracy: 0.0925\n",
            "Epoch 26/30\n",
            "4348/4348 [==============================] - 182s 42ms/step - loss: 4.1881 - accuracy: 0.0975 - val_loss: 4.2438 - val_accuracy: 0.0937\n",
            "Epoch 27/30\n",
            "4348/4348 [==============================] - 181s 42ms/step - loss: 4.1824 - accuracy: 0.0983 - val_loss: 4.2258 - val_accuracy: 0.0940\n",
            "Epoch 28/30\n",
            "4348/4348 [==============================] - 182s 42ms/step - loss: 4.1801 - accuracy: 0.0978 - val_loss: 4.2269 - val_accuracy: 0.0927\n",
            "Epoch 29/30\n",
            "4348/4348 [==============================] - 184s 42ms/step - loss: 4.1714 - accuracy: 0.1001 - val_loss: 4.2208 - val_accuracy: 0.0930\n",
            "Epoch 30/30\n",
            "4348/4348 [==============================] - 186s 43ms/step - loss: 4.1690 - accuracy: 0.1003 - val_loss: 4.2229 - val_accuracy: 0.0954\n"
          ],
          "name": "stdout"
        }
      ]
    },
    {
      "cell_type": "code",
      "metadata": {
        "id": "D0l6kogMuhOt",
        "colab": {
          "base_uri": "https://localhost:8080/",
          "height": 590
        },
        "outputId": "50b01503-7882-41b9-c873-934a105bb4b5"
      },
      "source": [
        "import matplotlib.pyplot as plt\n",
        "\n",
        "\n",
        "print(history.history.keys())\n",
        "# Graficamos el accuracy y el loss.\n",
        "plt.plot(history.history['accuracy'])\n",
        "plt.plot(history.history['val_accuracy'])\n",
        "plt.title('model accuracy')\n",
        "plt.ylabel('accuracy')\n",
        "plt.xlabel('epoch')\n",
        "plt.legend(['train', 'test'], loc='upper left')\n",
        "plt.show()\n",
        "\n",
        "plt.plot(history.history['loss'])\n",
        "plt.plot(history.history['val_loss'])\n",
        "plt.title('model loss')\n",
        "plt.ylabel('loss')\n",
        "plt.xlabel('epoch')\n",
        "plt.legend(['train', 'test'], loc='upper left')\n",
        "plt.show()\n"
      ],
      "execution_count": 22,
      "outputs": [
        {
          "output_type": "stream",
          "text": [
            "dict_keys(['loss', 'accuracy', 'val_loss', 'val_accuracy', 'lr'])\n"
          ],
          "name": "stdout"
        },
        {
          "output_type": "display_data",
          "data": {
            "image/png": "[encoded data removed]",
            "text/plain": [
              "<Figure size 432x288 with 1 Axes>"
            ]
          },
          "metadata": {
            "tags": [],
            "needs_background": "light"
          }
        },
        {
          "output_type": "display_data",
          "data": {
            "image/png": "[encoded data removed]",
            "text/plain": [
              "<Figure size 432x288 with 1 Axes>"
            ]
          },
          "metadata": {
            "tags": [],
            "needs_background": "light"
          }
        }
      ]
    },
    {
      "cell_type": "markdown",
      "metadata": {
        "id": "YR51eb4n4Zm5"
      },
      "source": [
        "# Implementando Arquitectura AlexNet\n",
        "\n"
      ]
    },
    {
      "cell_type": "code",
      "metadata": {
        "colab": {
          "base_uri": "https://localhost:8080/"
        },
        "id": "mX3Gprig4qjm",
        "outputId": "e766a838-1f99-42cf-d898-59a20c94ed9e"
      },
      "source": [
        "from keras.models import Sequential\n",
        "from keras.layers import Conv2D\n",
        "from keras.layers import MaxPooling2D\n",
        "from keras.layers import Flatten\n",
        "from keras.layers import Dense\n",
        "from keras.layers import Activation\n",
        "from keras.layers import Dropout\n",
        "from keras.layers import ZeroPadding2D\n",
        "from keras.layers.normalization import BatchNormalization\n",
        "from keras.optimizers import Adam\n",
        "\n",
        "from tensorflow.python.client import device_lib\n",
        "print(device_lib.list_local_devices())"
      ],
      "execution_count": 23,
      "outputs": [
        {
          "output_type": "stream",
          "text": [
            "[name: \"/device:CPU:0\"\n",
            "device_type: \"CPU\"\n",
            "memory_limit: 268435456\n",
            "locality {\n",
            "}\n",
            "incarnation: 8212589339324819945\n",
            ", name: \"/device:XLA_CPU:0\"\n",
            "device_type: \"XLA_CPU\"\n",
            "memory_limit: 17179869184\n",
            "locality {\n",
            "}\n",
            "incarnation: 7071480315327225926\n",
            "physical_device_desc: \"device: XLA_CPU device\"\n",
            ", name: \"/device:XLA_GPU:0\"\n",
            "device_type: \"XLA_GPU\"\n",
            "memory_limit: 17179869184\n",
            "locality {\n",
            "}\n",
            "incarnation: 17432023071828123305\n",
            "physical_device_desc: \"device: XLA_GPU device\"\n",
            ", name: \"/device:GPU:0\"\n",
            "device_type: \"GPU\"\n",
            "memory_limit: 14640891840\n",
            "locality {\n",
            "  bus_id: 1\n",
            "  links {\n",
            "  }\n",
            "}\n",
            "incarnation: 6590209513426157809\n",
            "physical_device_desc: \"device: 0, name: Tesla T4, pci bus id: 0000:00:04.0, compute capability: 7.5\"\n",
            "]\n"
          ],
          "name": "stdout"
        }
      ]
    },
    {
      "cell_type": "code",
      "metadata": {
        "id": "oRal2JoI4xP3"
      },
      "source": [
        "# Inicializamos la red convolucional\n",
        "classifier = Sequential()\n",
        "\n",
        "classifier.add(ZeroPadding2D((1,1),input_shape = (64, 64, 3)))"
      ],
      "execution_count": 24,
      "outputs": []
    },
    {
      "cell_type": "code",
      "metadata": {
        "id": "coNCwFz_45U8"
      },
      "source": [
        "# Convoluciones\n",
        "classifier.add(Conv2D(48, (5, 5), activation = 'relu'))\n",
        "\n",
        "classifier.add(ZeroPadding2D((1,1)))\n",
        "classifier.add(Conv2D(128, (3, 3), activation = 'relu'))\n",
        "\n",
        "classifier.add(MaxPooling2D(pool_size = (2, 2)))\n",
        "\n",
        "# Convoluciones\n",
        "classifier.add(ZeroPadding2D((1,1)))\n",
        "classifier.add(Conv2D(192, (2, 2), activation = 'relu'))\n",
        "\n",
        "classifier.add(MaxPooling2D(pool_size = (2, 2)))\n",
        "\n",
        "# Convoluciones\n",
        "classifier.add(ZeroPadding2D((1,1)))\n",
        "classifier.add(Conv2D(192, (2, 2), activation = 'relu'))\n",
        "\n",
        "# Convoluciones\n",
        "classifier.add(ZeroPadding2D((1,1)))\n",
        "classifier.add(Conv2D(128, (2, 2), activation = 'relu'))\n",
        "\n",
        "classifier.add(MaxPooling2D(pool_size = (2, 2)))\n",
        "\n",
        "classifier.add(Flatten())\n",
        "\n",
        "classifier.add(Dense(units = 1024, activation = 'relu'))\n",
        "classifier.add(Dropout(rate=0.20))\n",
        "\n",
        "classifier.add(Dense(units = 1024, activation = 'relu'))\n",
        "classifier.add(Dropout(rate=0.20))\n",
        "\n",
        "classifier.add(Dense(units = 200, activation = 'softmax'))\n"
      ],
      "execution_count": 25,
      "outputs": []
    },
    {
      "cell_type": "code",
      "metadata": {
        "id": "Rob-0C8p49WZ"
      },
      "source": [
        "# Compilamos la red\n",
        "Adam = Adam(lr=0.0001, beta_1=0.9, beta_2=0.999, epsilon=None, decay=0, amsgrad=False)\n",
        "classifier.compile(optimizer = Adam, loss = 'categorical_crossentropy', metrics = ['accuracy'])\n",
        "\n",
        "\n",
        "\n",
        "\n",
        "\n",
        "\n",
        "#classifier.compile(optimizer = 'adam', loss = 'categorical_crossentropy', metrics = ['accuracy'])"
      ],
      "execution_count": 26,
      "outputs": []
    },
    {
      "cell_type": "code",
      "metadata": {
        "colab": {
          "base_uri": "https://localhost:8080/"
        },
        "id": "kM4AgE9w5AEQ",
        "outputId": "7dc07070-5e3a-4864-92eb-b5037306deed"
      },
      "source": [
        "# Ajustamos la red a las imágenes\n",
        "\n",
        "from keras.preprocessing.image import ImageDataGenerator\n",
        "\n",
        "train_datagen = ImageDataGenerator(rescale = 1./255,\n",
        "                                    shear_range = 0.2,\n",
        "                                    zoom_range = 0.2,\n",
        "                                    horizontal_flip = True)\n",
        "\n",
        "test_datagen = ImageDataGenerator(rescale = 1./255)\n",
        "\n",
        "training_set = train_datagen.flow_from_directory('/content/RNP-DOCTORADO/DataImages/train',\n",
        "                                                    target_size = (64, 64),\n",
        "                                                    batch_size = 256,\n",
        "                                                    class_mode = 'categorical')\n",
        "\n",
        "test_set = test_datagen.flow_from_directory('/content/RNP-DOCTORADO/DataImages/validation',\n",
        "                                            target_size = (64, 64),\n",
        "                                            batch_size = 256,\n",
        "                                            class_mode = 'categorical')\n",
        "\n",
        "history = classifier.fit_generator(training_set,\n",
        "                            epochs = 25,\n",
        "                            validation_data = test_set,\n",
        "                            verbose=1)\n"
      ],
      "execution_count": 27,
      "outputs": [
        {
          "output_type": "stream",
          "text": [
            "Found 100000 images belonging to 200 classes.\n",
            "Found 10000 images belonging to 200 classes.\n",
            "Epoch 1/25\n",
            "391/391 [==============================] - 172s 440ms/step - loss: 5.0332 - accuracy: 0.0253 - val_loss: 4.6659 - val_accuracy: 0.0653\n",
            "Epoch 2/25\n",
            "391/391 [==============================] - 170s 436ms/step - loss: 4.5272 - accuracy: 0.0793 - val_loss: 4.3015 - val_accuracy: 0.1051\n",
            "Epoch 3/25\n",
            "391/391 [==============================] - 171s 436ms/step - loss: 4.2200 - accuracy: 0.1183 - val_loss: 4.0882 - val_accuracy: 0.1374\n",
            "Epoch 4/25\n",
            "391/391 [==============================] - 170s 435ms/step - loss: 3.9948 - accuracy: 0.1492 - val_loss: 4.0517 - val_accuracy: 0.1396\n",
            "Epoch 5/25\n",
            "391/391 [==============================] - 170s 435ms/step - loss: 3.8244 - accuracy: 0.1752 - val_loss: 3.7944 - val_accuracy: 0.1769\n",
            "Epoch 6/25\n",
            "391/391 [==============================] - 170s 435ms/step - loss: 3.6824 - accuracy: 0.1954 - val_loss: 3.6342 - val_accuracy: 0.2000\n",
            "Epoch 7/25\n",
            "391/391 [==============================] - 171s 436ms/step - loss: 3.5601 - accuracy: 0.2148 - val_loss: 3.6689 - val_accuracy: 0.1957\n",
            "Epoch 8/25\n",
            "391/391 [==============================] - 169s 433ms/step - loss: 3.4553 - accuracy: 0.2312 - val_loss: 3.5599 - val_accuracy: 0.2104\n",
            "Epoch 9/25\n",
            "391/391 [==============================] - 169s 433ms/step - loss: 3.3596 - accuracy: 0.2447 - val_loss: 3.4202 - val_accuracy: 0.2379\n",
            "Epoch 10/25\n",
            "391/391 [==============================] - 170s 435ms/step - loss: 3.2847 - accuracy: 0.2591 - val_loss: 3.3785 - val_accuracy: 0.2451\n",
            "Epoch 11/25\n",
            "391/391 [==============================] - 169s 433ms/step - loss: 3.2041 - accuracy: 0.2730 - val_loss: 3.3481 - val_accuracy: 0.2486\n",
            "Epoch 12/25\n",
            "391/391 [==============================] - 169s 431ms/step - loss: 3.1347 - accuracy: 0.2840 - val_loss: 3.3886 - val_accuracy: 0.2444\n",
            "Epoch 13/25\n",
            "391/391 [==============================] - 167s 427ms/step - loss: 3.0560 - accuracy: 0.2977 - val_loss: 3.2505 - val_accuracy: 0.2758\n",
            "Epoch 14/25\n",
            "391/391 [==============================] - 167s 428ms/step - loss: 2.9993 - accuracy: 0.3088 - val_loss: 3.3062 - val_accuracy: 0.2626\n",
            "Epoch 15/25\n",
            "391/391 [==============================] - 166s 426ms/step - loss: 2.9368 - accuracy: 0.3207 - val_loss: 3.1500 - val_accuracy: 0.2925\n",
            "Epoch 16/25\n",
            "391/391 [==============================] - 166s 426ms/step - loss: 2.8712 - accuracy: 0.3316 - val_loss: 3.2029 - val_accuracy: 0.2797\n",
            "Epoch 17/25\n",
            "391/391 [==============================] - 166s 425ms/step - loss: 2.8175 - accuracy: 0.3411 - val_loss: 3.2211 - val_accuracy: 0.2788\n",
            "Epoch 18/25\n",
            "391/391 [==============================] - 167s 427ms/step - loss: 2.7650 - accuracy: 0.3489 - val_loss: 3.0761 - val_accuracy: 0.3038\n",
            "Epoch 19/25\n",
            "391/391 [==============================] - 167s 427ms/step - loss: 2.7121 - accuracy: 0.3595 - val_loss: 3.1676 - val_accuracy: 0.2959\n",
            "Epoch 20/25\n",
            "391/391 [==============================] - 167s 427ms/step - loss: 2.6577 - accuracy: 0.3698 - val_loss: 3.1171 - val_accuracy: 0.3017\n",
            "Epoch 21/25\n",
            "391/391 [==============================] - 167s 428ms/step - loss: 2.6006 - accuracy: 0.3810 - val_loss: 3.0480 - val_accuracy: 0.3189\n",
            "Epoch 22/25\n",
            "391/391 [==============================] - 167s 427ms/step - loss: 2.5537 - accuracy: 0.3874 - val_loss: 3.1843 - val_accuracy: 0.2886\n",
            "Epoch 23/25\n",
            "391/391 [==============================] - 167s 428ms/step - loss: 2.5080 - accuracy: 0.3986 - val_loss: 3.1144 - val_accuracy: 0.3022\n",
            "Epoch 24/25\n",
            "391/391 [==============================] - 167s 427ms/step - loss: 2.4543 - accuracy: 0.4060 - val_loss: 3.1517 - val_accuracy: 0.2985\n",
            "Epoch 25/25\n",
            "391/391 [==============================] - 167s 426ms/step - loss: 2.4122 - accuracy: 0.4157 - val_loss: 3.1568 - val_accuracy: 0.3011\n"
          ],
          "name": "stdout"
        }
      ]
    },
    {
      "cell_type": "code",
      "metadata": {
        "colab": {
          "base_uri": "https://localhost:8080/",
          "height": 590
        },
        "id": "_rzsfGlZ5DFE",
        "outputId": "00d8515a-7b95-41ad-cdcf-655ee58c296c"
      },
      "source": [
        "import matplotlib.pyplot as plt\n",
        "\n",
        "print(history.history.keys())\n",
        "# summarize history for accuracy\n",
        "plt.plot(history.history['accuracy'])\n",
        "plt.plot(history.history['val_accuracy'])\n",
        "plt.title('model accuracy')\n",
        "plt.ylabel('accuracy')\n",
        "plt.xlabel('epoch')\n",
        "plt.legend(['train', 'test'], loc='upper left')\n",
        "plt.show()\n",
        "\n",
        "plt.plot(history.history['loss'])\n",
        "plt.plot(history.history['val_loss'])\n",
        "plt.title('model loss')\n",
        "plt.ylabel('loss')\n",
        "plt.xlabel('epoch')\n",
        "plt.legend(['train', 'test'], loc='upper left')\n",
        "plt.show()"
      ],
      "execution_count": 29,
      "outputs": [
        {
          "output_type": "stream",
          "text": [
            "dict_keys(['loss', 'accuracy', 'val_loss', 'val_accuracy'])\n"
          ],
          "name": "stdout"
        },
        {
          "output_type": "display_data",
          "data": {
            "image/png": "[encoded data removed]",
            "text/plain": [
              "<Figure size 432x288 with 1 Axes>"
            ]
          },
          "metadata": {
            "tags": [],
            "needs_background": "light"
          }
        },
        {
          "output_type": "display_data",
          "data": {
            "image/png": "[encoded data removed]",
            "text/plain": [
              "<Figure size 432x288 with 1 Axes>"
            ]
          },
          "metadata": {
            "tags": [],
            "needs_background": "light"
          }
        }
      ]
    }
  ]
}