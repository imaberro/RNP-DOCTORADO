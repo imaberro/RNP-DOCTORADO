{
  "nbformat": 4,
  "nbformat_minor": 0,
  "metadata": {
    "accelerator": "GPU",
    "colab": {
      "name": "Tarea Redes Neuronales Profundas - Marcelo Becerra.ipynb",
      "provenance": [],
      "collapsed_sections": []
    },
    "kernelspec": {
      "display_name": "Python 3",
      "name": "python3"
    }
  },
  "cells": [
    {
      "cell_type": "markdown",
      "metadata": {
        "id": "Tg_UNV7Y3IPi"
      },
      "source": [
        "# Implementando Arquitectura VGG"
      ]
    },
    {
      "cell_type": "markdown",
      "metadata": {
        "id": "9Hyzh2gz3Rzj"
      },
      "source": [
        "Se importa un repositorio en github asociado a Marcelo Becerra Rozas de RUT: 19.339.344-6 alumno del ramo de Redes Neuronales Profundas. El objetivo de esto es, para facilidad de uso de los dataSets"
      ]
    },
    {
      "cell_type": "code",
      "metadata": {
        "colab": {
          "base_uri": "https://localhost:8080/"
        },
        "id": "hdOmgAYBtmDT",
        "outputId": "3516fc12-3d35-41ba-ae8e-ac34c87fc8eb"
      },
      "source": [
        "!git clone https://github.com/imaberro/RNP-DOCTORADO.git"
      ],
      "execution_count": 1,
      "outputs": [
        {
          "output_type": "stream",
          "text": [
            "Cloning into 'RNP-DOCTORADO'...\n",
            "remote: Enumerating objects: 1131, done.\u001b[K\n",
            "remote: Counting objects: 100% (1131/1131), done.\u001b[K\n",
            "remote: Compressing objects: 100% (1115/1115), done.\u001b[K\n",
            "remote: Total 122108 (delta 9), reused 1130 (delta 8), pack-reused 120977\u001b[K\n",
            "Receiving objects: 100% (122108/122108), 215.44 MiB | 33.36 MiB/s, done.\n",
            "Resolving deltas: 100% (1117/1117), done.\n",
            "Checking out files: 100% (132650/132650), done.\n"
          ],
          "name": "stdout"
        }
      ]
    },
    {
      "cell_type": "code",
      "metadata": {
        "colab": {
          "base_uri": "https://localhost:8080/"
        },
        "id": "3ctKN2Cstory",
        "outputId": "a7b7dc39-b975-4b93-be65-e1a10bc530fe"
      },
      "source": [
        "\n",
        "# Librerías de Keras\n",
        "from keras.models import Sequential\n",
        "from keras.layers import Conv2D\n",
        "from keras.layers import MaxPooling2D\n",
        "from keras.layers import Flatten\n",
        "from keras.layers import Dense\n",
        "from keras.layers import BatchNormalization\n",
        "from keras.optimizers import Adam\n",
        "from keras import regularizers\n",
        "from keras.layers import ZeroPadding2D\n",
        "\n",
        "from keras.callbacks import CSVLogger\n",
        "\n",
        "from tensorflow.python.client import device_lib\n",
        "print(device_lib.list_local_devices())\n",
        "\n",
        "\n"
      ],
      "execution_count": 2,
      "outputs": [
        {
          "output_type": "stream",
          "text": [
            "[name: \"/device:CPU:0\"\n",
            "device_type: \"CPU\"\n",
            "memory_limit: 268435456\n",
            "locality {\n",
            "}\n",
            "incarnation: 2572095732786004127\n",
            ", name: \"/device:GPU:0\"\n",
            "device_type: \"GPU\"\n",
            "memory_limit: 14638920512\n",
            "locality {\n",
            "  bus_id: 1\n",
            "  links {\n",
            "  }\n",
            "}\n",
            "incarnation: 4767795275520533247\n",
            "physical_device_desc: \"device: 0, name: Tesla T4, pci bus id: 0000:00:04.0, compute capability: 7.5\"\n",
            "]\n"
          ],
          "name": "stdout"
        }
      ]
    },
    {
      "cell_type": "code",
      "metadata": {
        "id": "cpx1TYWhuEby"
      },
      "source": [
        "# Inicializamos la red convolucional\n",
        "classifier = Sequential()"
      ],
      "execution_count": 3,
      "outputs": []
    },
    {
      "cell_type": "markdown",
      "metadata": {
        "id": "VBMlZkxruwo7"
      },
      "source": [
        "La arquitectura que se está implementando en esta primera instancia es la conocida como VGG.\r\n",
        "\r\n",
        "Se tienen consideradas tres layers convolucionales de kernel 2x2, 2x1 y 1x2 respectivamente de 32 pixeles cada una y con un input o imágenes de 64x64 píxeles RGB para el primer layer. Cada layer contempla activación de tipo ReLu\r\n",
        "\r\n",
        "Por cada layer se realiza una normalización, luego de las tres layers, se realiza un MaxPooling de tamaño 2x2.\r\n",
        "\r\n",
        "Los siguientes tres layers tienen 48 pixeles con un kernel de 2x2. Nuevamente por cada layer se realizará un normalización de la salida. Y finalmente, otra vez un MaxPooling de 2x2.\r\n",
        "\r\n",
        "Los siguientes layers (Siempre separandolos de 3 en 3) están contemplados con tamaños de 64, 80 y 96 píxeles con un kernel de 2x2 y MaxPooling de 2x2 también.\r\n",
        "\r\n",
        "Finalmente tenemos 2 capas Dense de tamaño 800 con activación 800 y finalmente la última de tamaño 200 y activación de tipo Softmax.\r\n",
        "\r\n"
      ]
    },
    {
      "cell_type": "code",
      "metadata": {
        "id": "nC6XocnYuFtt"
      },
      "source": [
        "#Convoluciones\n",
        "classifier.add(Conv2D(32, (2, 2), input_shape = (64, 64, 3), activation = 'relu'))\n",
        "classifier.add(BatchNormalization())\n",
        "\n",
        "classifier.add(Conv2D(32, (2, 1), activation = 'relu'))\n",
        "classifier.add(BatchNormalization())\n",
        "\n",
        "classifier.add(Conv2D(32, (1, 2), activation = 'relu'))\n",
        "classifier.add(BatchNormalization())\n",
        "\n",
        "# Agregamos más layers convolucionales\n",
        "classifier.add(MaxPooling2D(pool_size = (2, 2)))\n",
        "\n",
        "classifier.add(Conv2D(48, (2, 2), activation = 'relu'))\n",
        "classifier.add(BatchNormalization())\n",
        "\n",
        "classifier.add(Conv2D(48, (2, 2), activation = 'relu'))\n",
        "classifier.add(BatchNormalization())\n",
        "\n",
        "classifier.add(Conv2D(48, (2, 2), activation = 'relu'))\n",
        "classifier.add(BatchNormalization())\n",
        "\n",
        "# Agregamos más layers convolucionales\n",
        "classifier.add(MaxPooling2D(pool_size = (2, 2)))\n",
        "\n",
        "classifier.add(Conv2D(64, (2, 2), activation = 'relu'))\n",
        "classifier.add(BatchNormalization())\n",
        "\n",
        "classifier.add(Conv2D(64, (2, 2), activation = 'relu'))\n",
        "classifier.add(BatchNormalization())\n",
        "\n",
        "classifier.add(Conv2D(64, (2, 2), activation = 'relu'))\n",
        "classifier.add(BatchNormalization())\n",
        "\n",
        "# Agregamos más layers convolucionales\n",
        "classifier.add(MaxPooling2D(pool_size = (2, 2)))\n",
        "\n",
        "classifier.add(Conv2D(80, (2, 2), activation = 'relu'))\n",
        "classifier.add(BatchNormalization())\n",
        "\n",
        "classifier.add(Conv2D(80, (2, 2), activation = 'relu'))\n",
        "classifier.add(BatchNormalization())\n",
        "\n",
        "classifier.add(Conv2D(80, (2, 2), activation = 'relu'))\n",
        "classifier.add(BatchNormalization())\n",
        "\n",
        "# Agregamos más layers convolucionales\n",
        "classifier.add(MaxPooling2D(pool_size = (2, 2)))\n",
        "\n",
        "classifier.add(ZeroPadding2D((1,1)))\n",
        "classifier.add(Conv2D(96, (2, 2), activation = 'relu'))\n",
        "classifier.add(BatchNormalization())\n",
        "\n",
        "classifier.add(ZeroPadding2D((1,1)))\n",
        "classifier.add(Conv2D(96, (2, 2), activation = 'relu'))\n",
        "classifier.add(BatchNormalization())\n",
        "\n",
        "classifier.add(ZeroPadding2D((1,1)))\n",
        "classifier.add(Conv2D(96, (2, 2), activation = 'relu'))\n",
        "classifier.add(BatchNormalization())\n",
        "\n",
        "classifier.add(MaxPooling2D(pool_size = (2, 2)))\n",
        "\n",
        "classifier.add(Flatten())\n",
        "\n",
        "classifier.add(Dense(units = 800, activation = 'relu', kernel_initializer='glorot_uniform', kernel_regularizer=regularizers.l2(0.00001)))\n",
        "classifier.add(Dense(units = 800, activation = 'relu', kernel_initializer='glorot_uniform', kernel_regularizer=regularizers.l2(0.00001)))\n",
        "classifier.add(Dense(units = 200, activation = 'softmax'))"
      ],
      "execution_count": 4,
      "outputs": []
    },
    {
      "cell_type": "code",
      "metadata": {
        "colab": {
          "base_uri": "https://localhost:8080/"
        },
        "id": "U4_spnweuOi9",
        "outputId": "1d21cf4e-f887-4506-f7ec-615ec2ef32e8"
      },
      "source": [
        "# Compilamos la red\n",
        "\n",
        "from keras.callbacks import LearningRateScheduler\n",
        "learning_rate = 1e-4\n",
        "lr = 0.001\n",
        "def updateLR(epoch, lr):\n",
        "    if(epoch % 10 == 0 and epoch !=0):\n",
        "        lr *= 0.5\n",
        "        print(\"update\",lr)\n",
        "    return lr\n",
        "\n",
        "lrate = LearningRateScheduler(updateLR)\n",
        "\n",
        "Adam = Adam(lr=0.001, beta_1=0.9, beta_2=0.999, epsilon=None, decay=0.00014, amsgrad=False)\n",
        "classifier.compile(optimizer = Adam, loss = 'categorical_crossentropy', metrics = ['accuracy'])\n",
        "classifier.summary()"
      ],
      "execution_count": 5,
      "outputs": [
        {
          "output_type": "stream",
          "text": [
            "Model: \"sequential\"\n",
            "_________________________________________________________________\n",
            "Layer (type)                 Output Shape              Param #   \n",
            "=================================================================\n",
            "conv2d (Conv2D)              (None, 63, 63, 32)        416       \n",
            "_________________________________________________________________\n",
            "batch_normalization (BatchNo (None, 63, 63, 32)        128       \n",
            "_________________________________________________________________\n",
            "conv2d_1 (Conv2D)            (None, 62, 63, 32)        2080      \n",
            "_________________________________________________________________\n",
            "batch_normalization_1 (Batch (None, 62, 63, 32)        128       \n",
            "_________________________________________________________________\n",
            "conv2d_2 (Conv2D)            (None, 62, 62, 32)        2080      \n",
            "_________________________________________________________________\n",
            "batch_normalization_2 (Batch (None, 62, 62, 32)        128       \n",
            "_________________________________________________________________\n",
            "max_pooling2d (MaxPooling2D) (None, 31, 31, 32)        0         \n",
            "_________________________________________________________________\n",
            "conv2d_3 (Conv2D)            (None, 30, 30, 48)        6192      \n",
            "_________________________________________________________________\n",
            "batch_normalization_3 (Batch (None, 30, 30, 48)        192       \n",
            "_________________________________________________________________\n",
            "conv2d_4 (Conv2D)            (None, 29, 29, 48)        9264      \n",
            "_________________________________________________________________\n",
            "batch_normalization_4 (Batch (None, 29, 29, 48)        192       \n",
            "_________________________________________________________________\n",
            "conv2d_5 (Conv2D)            (None, 28, 28, 48)        9264      \n",
            "_________________________________________________________________\n",
            "batch_normalization_5 (Batch (None, 28, 28, 48)        192       \n",
            "_________________________________________________________________\n",
            "max_pooling2d_1 (MaxPooling2 (None, 14, 14, 48)        0         \n",
            "_________________________________________________________________\n",
            "conv2d_6 (Conv2D)            (None, 13, 13, 64)        12352     \n",
            "_________________________________________________________________\n",
            "batch_normalization_6 (Batch (None, 13, 13, 64)        256       \n",
            "_________________________________________________________________\n",
            "conv2d_7 (Conv2D)            (None, 12, 12, 64)        16448     \n",
            "_________________________________________________________________\n",
            "batch_normalization_7 (Batch (None, 12, 12, 64)        256       \n",
            "_________________________________________________________________\n",
            "conv2d_8 (Conv2D)            (None, 11, 11, 64)        16448     \n",
            "_________________________________________________________________\n",
            "batch_normalization_8 (Batch (None, 11, 11, 64)        256       \n",
            "_________________________________________________________________\n",
            "max_pooling2d_2 (MaxPooling2 (None, 5, 5, 64)          0         \n",
            "_________________________________________________________________\n",
            "conv2d_9 (Conv2D)            (None, 4, 4, 80)          20560     \n",
            "_________________________________________________________________\n",
            "batch_normalization_9 (Batch (None, 4, 4, 80)          320       \n",
            "_________________________________________________________________\n",
            "conv2d_10 (Conv2D)           (None, 3, 3, 80)          25680     \n",
            "_________________________________________________________________\n",
            "batch_normalization_10 (Batc (None, 3, 3, 80)          320       \n",
            "_________________________________________________________________\n",
            "conv2d_11 (Conv2D)           (None, 2, 2, 80)          25680     \n",
            "_________________________________________________________________\n",
            "batch_normalization_11 (Batc (None, 2, 2, 80)          320       \n",
            "_________________________________________________________________\n",
            "max_pooling2d_3 (MaxPooling2 (None, 1, 1, 80)          0         \n",
            "_________________________________________________________________\n",
            "zero_padding2d (ZeroPadding2 (None, 3, 3, 80)          0         \n",
            "_________________________________________________________________\n",
            "conv2d_12 (Conv2D)           (None, 2, 2, 96)          30816     \n",
            "_________________________________________________________________\n",
            "batch_normalization_12 (Batc (None, 2, 2, 96)          384       \n",
            "_________________________________________________________________\n",
            "zero_padding2d_1 (ZeroPaddin (None, 4, 4, 96)          0         \n",
            "_________________________________________________________________\n",
            "conv2d_13 (Conv2D)           (None, 3, 3, 96)          36960     \n",
            "_________________________________________________________________\n",
            "batch_normalization_13 (Batc (None, 3, 3, 96)          384       \n",
            "_________________________________________________________________\n",
            "zero_padding2d_2 (ZeroPaddin (None, 5, 5, 96)          0         \n",
            "_________________________________________________________________\n",
            "conv2d_14 (Conv2D)           (None, 4, 4, 96)          36960     \n",
            "_________________________________________________________________\n",
            "batch_normalization_14 (Batc (None, 4, 4, 96)          384       \n",
            "_________________________________________________________________\n",
            "max_pooling2d_4 (MaxPooling2 (None, 2, 2, 96)          0         \n",
            "_________________________________________________________________\n",
            "flatten (Flatten)            (None, 384)               0         \n",
            "_________________________________________________________________\n",
            "dense (Dense)                (None, 800)               308000    \n",
            "_________________________________________________________________\n",
            "dense_1 (Dense)              (None, 800)               640800    \n",
            "_________________________________________________________________\n",
            "dense_2 (Dense)              (None, 200)               160200    \n",
            "=================================================================\n",
            "Total params: 1,364,040\n",
            "Trainable params: 1,362,120\n",
            "Non-trainable params: 1,920\n",
            "_________________________________________________________________\n"
          ],
          "name": "stdout"
        }
      ]
    },
    {
      "cell_type": "markdown",
      "metadata": {
        "id": "wBgfQSm801FT"
      },
      "source": [
        "Para los ajustes de las imágenes y de la red, se optó por algunas opciones definidas por ImageDataGenerator, el primero un reescalado, shear y zoom con rango de 0,2, un flip de tipo horizontal, una rotación de imágen de 90°, cambios de tamaños de imágenes tanto horizontal como vertical y finalmente un aumento de brillo de rangos entre 0,2 y 0,8.\r\n",
        "\r\n",
        "Un Batchsize de 23 y para cada imágen contenida del Dataset será estandarizada con un tamaño de 64x64 píxeles. Analizando un total de 100.000 imágenes dividas en 200 tipos de clases."
      ]
    },
    {
      "cell_type": "code",
      "metadata": {
        "colab": {
          "base_uri": "https://localhost:8080/"
        },
        "id": "JaD2Ajwcucu4",
        "outputId": "0c67d6ed-03fb-4656-8306-5f90d3b3e28c"
      },
      "source": [
        "# Ajustamos la red a las imágenes\n",
        "\n",
        "from keras.preprocessing.image import ImageDataGenerator\n",
        "\n",
        "train_datagen = ImageDataGenerator(rescale = 1./255,\n",
        "                                   shear_range = 0.2,\n",
        "                                   zoom_range = 0.2,\n",
        "                                   horizontal_flip = True,\n",
        "                                   rotation_range=90,\n",
        "                                   width_shift_range=0.2,\n",
        "                                   height_shift_range=0.2,\n",
        "                                   brightness_range=(0.2, 0.8)\n",
        "                                   )\n",
        "\n",
        "test_datagen = ImageDataGenerator(rescale = 1./255)\n",
        "\n",
        "training_set = train_datagen.flow_from_directory('/content/RNP-DOCTORADO/DataImages/train',\n",
        "                                                 target_size = (64, 64),\n",
        "                                                 batch_size = 23,\n",
        "                                                 class_mode = 'categorical')\n",
        "\n",
        "test_set = test_datagen.flow_from_directory('/content/RNP-DOCTORADO/DataImages/validation',\n",
        "                                            target_size = (64, 64),\n",
        "                                            batch_size = 23,\n",
        "                                            class_mode = 'categorical')\n",
        "\n",
        "print(training_set)\n",
        "\n",
        "csv_logger = CSVLogger('training.log')\n",
        "\n",
        "history = classifier.fit(training_set,\n",
        "                         epochs = 30,\n",
        "                         validation_data = test_set,\n",
        "                         verbose=1)\n",
        "\n",
        "\n"
      ],
      "execution_count": 6,
      "outputs": [
        {
          "output_type": "stream",
          "text": [
            "Found 100000 images belonging to 200 classes.\n",
            "Found 10000 images belonging to 200 classes.\n",
            "<tensorflow.python.keras.preprocessing.image.DirectoryIterator object at 0x7fb5602d37f0>\n",
            "Epoch 1/30\n",
            "4348/4348 [==============================] - 207s 46ms/step - loss: 5.1590 - accuracy: 0.0168 - val_loss: 5.4057 - val_accuracy: 0.0217\n",
            "Epoch 2/30\n",
            "4348/4348 [==============================] - 196s 45ms/step - loss: 4.7781 - accuracy: 0.0384 - val_loss: 4.8052 - val_accuracy: 0.0454\n",
            "Epoch 3/30\n",
            "4348/4348 [==============================] - 196s 45ms/step - loss: 4.5899 - accuracy: 0.0560 - val_loss: 4.7534 - val_accuracy: 0.0495\n",
            "Epoch 4/30\n",
            "4348/4348 [==============================] - 195s 45ms/step - loss: 4.4775 - accuracy: 0.0680 - val_loss: 4.6233 - val_accuracy: 0.0594\n",
            "Epoch 5/30\n",
            "4348/4348 [==============================] - 195s 45ms/step - loss: 4.3838 - accuracy: 0.0774 - val_loss: 4.6748 - val_accuracy: 0.0640\n",
            "Epoch 6/30\n",
            "4348/4348 [==============================] - 194s 45ms/step - loss: 4.3003 - accuracy: 0.0911 - val_loss: 4.3241 - val_accuracy: 0.0862\n",
            "Epoch 7/30\n",
            "4348/4348 [==============================] - 195s 45ms/step - loss: 4.2434 - accuracy: 0.0967 - val_loss: 4.3055 - val_accuracy: 0.0958\n",
            "Epoch 8/30\n",
            "4348/4348 [==============================] - 196s 45ms/step - loss: 4.1921 - accuracy: 0.1034 - val_loss: 4.4611 - val_accuracy: 0.0819\n",
            "Epoch 9/30\n",
            "4348/4348 [==============================] - 195s 45ms/step - loss: 4.1554 - accuracy: 0.1081 - val_loss: 4.2305 - val_accuracy: 0.1005\n",
            "Epoch 10/30\n",
            "4348/4348 [==============================] - 194s 45ms/step - loss: 4.1151 - accuracy: 0.1136 - val_loss: 4.3111 - val_accuracy: 0.0983\n",
            "Epoch 11/30\n",
            "4348/4348 [==============================] - 195s 45ms/step - loss: 4.0785 - accuracy: 0.1196 - val_loss: 4.1897 - val_accuracy: 0.1065\n",
            "Epoch 12/30\n",
            "4348/4348 [==============================] - 194s 45ms/step - loss: 4.0615 - accuracy: 0.1210 - val_loss: 4.4114 - val_accuracy: 0.0975\n",
            "Epoch 13/30\n",
            "4348/4348 [==============================] - 195s 45ms/step - loss: 4.0247 - accuracy: 0.1264 - val_loss: 4.0780 - val_accuracy: 0.1171\n",
            "Epoch 14/30\n",
            "4348/4348 [==============================] - 195s 45ms/step - loss: 4.0006 - accuracy: 0.1306 - val_loss: 4.1576 - val_accuracy: 0.1128\n",
            "Epoch 15/30\n",
            "4348/4348 [==============================] - 195s 45ms/step - loss: 3.9920 - accuracy: 0.1317 - val_loss: 4.1564 - val_accuracy: 0.1129\n",
            "Epoch 16/30\n",
            "4348/4348 [==============================] - 194s 45ms/step - loss: 3.9700 - accuracy: 0.1343 - val_loss: 4.1560 - val_accuracy: 0.1159\n",
            "Epoch 17/30\n",
            "4348/4348 [==============================] - 194s 45ms/step - loss: 3.9466 - accuracy: 0.1379 - val_loss: 4.1940 - val_accuracy: 0.1105\n",
            "Epoch 18/30\n",
            "4348/4348 [==============================] - 195s 45ms/step - loss: 3.9323 - accuracy: 0.1394 - val_loss: 4.0298 - val_accuracy: 0.1241\n",
            "Epoch 19/30\n",
            "4348/4348 [==============================] - 195s 45ms/step - loss: 3.9140 - accuracy: 0.1426 - val_loss: 4.0979 - val_accuracy: 0.1223\n",
            "Epoch 20/30\n",
            "4348/4348 [==============================] - 196s 45ms/step - loss: 3.8989 - accuracy: 0.1443 - val_loss: 4.0282 - val_accuracy: 0.1287\n",
            "Epoch 21/30\n",
            "4348/4348 [==============================] - 196s 45ms/step - loss: 3.8889 - accuracy: 0.1473 - val_loss: 4.0635 - val_accuracy: 0.1252\n",
            "Epoch 22/30\n",
            "4348/4348 [==============================] - 196s 45ms/step - loss: 3.8726 - accuracy: 0.1490 - val_loss: 4.0201 - val_accuracy: 0.1339\n",
            "Epoch 23/30\n",
            "4348/4348 [==============================] - 196s 45ms/step - loss: 3.8467 - accuracy: 0.1525 - val_loss: 4.0341 - val_accuracy: 0.1310\n",
            "Epoch 24/30\n",
            "4348/4348 [==============================] - 195s 45ms/step - loss: 3.8412 - accuracy: 0.1542 - val_loss: 4.0383 - val_accuracy: 0.1314\n",
            "Epoch 25/30\n",
            "4348/4348 [==============================] - 195s 45ms/step - loss: 3.8251 - accuracy: 0.1538 - val_loss: 3.9574 - val_accuracy: 0.1364\n",
            "Epoch 26/30\n",
            "4348/4348 [==============================] - 195s 45ms/step - loss: 3.8242 - accuracy: 0.1548 - val_loss: 3.9820 - val_accuracy: 0.1364\n",
            "Epoch 27/30\n",
            "4348/4348 [==============================] - 195s 45ms/step - loss: 3.8129 - accuracy: 0.1597 - val_loss: 3.9891 - val_accuracy: 0.1358\n",
            "Epoch 28/30\n",
            "4348/4348 [==============================] - 195s 45ms/step - loss: 3.8021 - accuracy: 0.1601 - val_loss: 4.0033 - val_accuracy: 0.1358\n",
            "Epoch 29/30\n",
            "4348/4348 [==============================] - 195s 45ms/step - loss: 3.7977 - accuracy: 0.1629 - val_loss: 3.9647 - val_accuracy: 0.1395\n",
            "Epoch 30/30\n",
            "4348/4348 [==============================] - 196s 45ms/step - loss: 3.7817 - accuracy: 0.1638 - val_loss: 3.9105 - val_accuracy: 0.1450\n"
          ],
          "name": "stdout"
        }
      ]
    },
    {
      "cell_type": "code",
      "metadata": {
        "colab": {
          "base_uri": "https://localhost:8080/",
          "height": 590
        },
        "id": "D0l6kogMuhOt",
        "outputId": "bcc3baea-f24f-4254-a016-874358c315c3"
      },
      "source": [
        "import matplotlib.pyplot as plt\n",
        "\n",
        "\n",
        "print(history.history.keys())\n",
        "# Graficamos el accuracy y el loss.\n",
        "plt.plot(history.history['accuracy'])\n",
        "plt.plot(history.history['val_accuracy'])\n",
        "plt.title('model accuracy')\n",
        "plt.ylabel('accuracy')\n",
        "plt.xlabel('epoch')\n",
        "plt.legend(['train', 'test'], loc='upper left')\n",
        "plt.show()\n",
        "\n",
        "plt.plot(history.history['loss'])\n",
        "plt.plot(history.history['val_loss'])\n",
        "plt.title('model loss')\n",
        "plt.ylabel('loss')\n",
        "plt.xlabel('epoch')\n",
        "plt.legend(['train', 'test'], loc='upper left')\n",
        "plt.show()\n"
      ],
      "execution_count": 7,
      "outputs": [
        {
          "output_type": "stream",
          "text": [
            "dict_keys(['loss', 'accuracy', 'val_loss', 'val_accuracy'])\n"
          ],
          "name": "stdout"
        },
        {
          "output_type": "display_data",
          "data": {
            "image/png": "[encoded data removed]",
            "text/plain": [
              "<Figure size 432x288 with 1 Axes>"
            ]
          },
          "metadata": {
            "tags": [],
            "needs_background": "light"
          }
        },
        {
          "output_type": "display_data",
          "data": {
            "image/png": "[encoded data removed]",
            "text/plain": [
              "<Figure size 432x288 with 1 Axes>"
            ]
          },
          "metadata": {
            "tags": [],
            "needs_background": "light"
          }
        }
      ]
    },
    {
      "cell_type": "markdown",
      "metadata": {
        "id": "MYMYXG_074L0"
      },
      "source": [
        "Los resultados demuestran que tanto el accuracy como el loss tienen una tendencia correcta, suben y se reducen respectivamente. Sin embargo se pueden observar ciertos comprotamientos que quizás se puedan mejorar con otro tipo de tunning en los parámetros o en las arquitecturas.\r\n",
        "\r\n",
        "Lo primero que se puede observar es que tanto el Accuracy como el Loss, tal y como se mencionó previamente su tendencia es a aumentar y a bajar. Los valores del accuracy tienen a ser bajos, rodeando el 16% con 30 epochs. Se considera que el bajo valor del accuracy se vea afectado por la cantidad de clases que tiene el Dataset.\r\n",
        "\r\n",
        "Lo segundo que se puede observar es que tanto el Accuracy como el Loss, tiene algunos picos que descienden y no se puede ver una linea curvilinea como lo sería la linea del Train. Esto se cree que se debe a los tipos de parámetros que se usaron en el DataAugmentation, quizás con un tunning de parámetros distinta pueda conseguir reducir considerablemente o en su totalidad los picos.\r\n",
        "\r\n",
        "# **Este mismo comportamiento se verá en la siguiente arquitectura que se presenta.**"
      ]
    },
    {
      "cell_type": "markdown",
      "metadata": {
        "id": "YR51eb4n4Zm5"
      },
      "source": [
        "# Implementando Arquitectura AlexNet\n",
        "\n"
      ]
    },
    {
      "cell_type": "code",
      "metadata": {
        "colab": {
          "base_uri": "https://localhost:8080/"
        },
        "id": "mX3Gprig4qjm",
        "outputId": "858775d1-2e73-4b7d-c827-d6e9c55bae7d"
      },
      "source": [
        "from keras.models import Sequential\n",
        "from keras.layers import Conv2D\n",
        "from keras.layers import MaxPooling2D\n",
        "from keras.layers import Flatten\n",
        "from keras.layers import Dense\n",
        "from keras.layers import Activation\n",
        "from keras.layers import Dropout\n",
        "from keras.layers import ZeroPadding2D\n",
        "from keras.layers.normalization import BatchNormalization\n",
        "from keras.optimizers import Adam\n",
        "\n",
        "from tensorflow.python.client import device_lib\n",
        "print(device_lib.list_local_devices())"
      ],
      "execution_count": 8,
      "outputs": [
        {
          "output_type": "stream",
          "text": [
            "[name: \"/device:CPU:0\"\n",
            "device_type: \"CPU\"\n",
            "memory_limit: 268435456\n",
            "locality {\n",
            "}\n",
            "incarnation: 8534540867473018067\n",
            ", name: \"/device:GPU:0\"\n",
            "device_type: \"GPU\"\n",
            "memory_limit: 14638920512\n",
            "locality {\n",
            "  bus_id: 1\n",
            "  links {\n",
            "  }\n",
            "}\n",
            "incarnation: 16469653622173978716\n",
            "physical_device_desc: \"device: 0, name: Tesla T4, pci bus id: 0000:00:04.0, compute capability: 7.5\"\n",
            "]\n"
          ],
          "name": "stdout"
        }
      ]
    },
    {
      "cell_type": "code",
      "metadata": {
        "id": "oRal2JoI4xP3"
      },
      "source": [
        "# Inicializamos la red convolucional\n",
        "classifier = Sequential()\n",
        "\n",
        "classifier.add(ZeroPadding2D((1,1),input_shape = (64, 64, 3)))"
      ],
      "execution_count": 9,
      "outputs": []
    },
    {
      "cell_type": "markdown",
      "metadata": {
        "id": "pJYb0k2C1v8r"
      },
      "source": [
        "A diferencia de VGG, en este caso con AlexNet tenemos solo dos layers convolucionales en vez de tres antes de cada MaxPooling.\r\n",
        "\r\n",
        "El primer layer de los dos tiene un tamaño de 48 y un kernel de 5x5 con activación de tipo Relu, para el caso del segundo layer se asignó un tamaño de 128 con un kernel de 3x3 y también activación Relu.\r\n",
        "\r\n",
        "El segundo layer solo contempla el mismo antes del MaxPooling, en este caso tiene tamaño 192 con un kernel de 2x2.\r\n",
        "\r\n",
        "Los siguientes dos layers tienen tamaño de 192 y 128 con kernel de 2x2.\r\n",
        "\r\n",
        "Finalmente las dos primeras capas Dense de tamaño 1024 de activación tipo Relu con un dropout de 0,02 y finalmente la última capa con un tamaño de 200 con activación de tipo Softmax."
      ]
    },
    {
      "cell_type": "code",
      "metadata": {
        "id": "coNCwFz_45U8"
      },
      "source": [
        "# Convoluciones\n",
        "classifier.add(Conv2D(48, (5, 5), activation = 'relu'))\n",
        "\n",
        "classifier.add(ZeroPadding2D((1,1)))\n",
        "classifier.add(Conv2D(128, (3, 3), activation = 'relu'))\n",
        "\n",
        "classifier.add(MaxPooling2D(pool_size = (2, 2)))\n",
        "\n",
        "# Convoluciones\n",
        "classifier.add(ZeroPadding2D((1,1)))\n",
        "classifier.add(Conv2D(192, (2, 2), activation = 'relu'))\n",
        "\n",
        "classifier.add(MaxPooling2D(pool_size = (2, 2)))\n",
        "\n",
        "# Convoluciones\n",
        "classifier.add(ZeroPadding2D((1,1)))\n",
        "classifier.add(Conv2D(192, (2, 2), activation = 'relu'))\n",
        "\n",
        "# Convoluciones\n",
        "classifier.add(ZeroPadding2D((1,1)))\n",
        "classifier.add(Conv2D(128, (2, 2), activation = 'relu'))\n",
        "\n",
        "classifier.add(MaxPooling2D(pool_size = (2, 2)))\n",
        "\n",
        "classifier.add(Flatten())\n",
        "\n",
        "classifier.add(Dense(units = 1024, activation = 'relu'))\n",
        "classifier.add(Dropout(rate=0.20))\n",
        "\n",
        "classifier.add(Dense(units = 1024, activation = 'relu'))\n",
        "classifier.add(Dropout(rate=0.20))\n",
        "\n",
        "classifier.add(Dense(units = 200, activation = 'softmax'))\n"
      ],
      "execution_count": 10,
      "outputs": []
    },
    {
      "cell_type": "code",
      "metadata": {
        "id": "Rob-0C8p49WZ"
      },
      "source": [
        "# Compilamos la red\n",
        "Adam = Adam(lr=0.0001, beta_1=0.9, beta_2=0.999, epsilon=None, decay=0, amsgrad=False)\n",
        "classifier.compile(optimizer = Adam, loss = 'categorical_crossentropy', metrics = ['accuracy'])\n",
        "\n",
        "\n",
        "\n",
        "\n",
        "\n",
        "\n",
        "#classifier.compile(optimizer = 'adam', loss = 'categorical_crossentropy', metrics = ['accuracy'])"
      ],
      "execution_count": 11,
      "outputs": []
    },
    {
      "cell_type": "markdown",
      "metadata": {
        "id": "o3KC4xav3a29"
      },
      "source": [
        "El procesado de imágenes será el mismo que se utilizó con la arquitectura de VGG. Sin embargo el batch size en este caso se asignó uno de tamaño 256."
      ]
    },
    {
      "cell_type": "code",
      "metadata": {
        "colab": {
          "base_uri": "https://localhost:8080/",
          "height": 870
        },
        "id": "kM4AgE9w5AEQ",
        "outputId": "3548d0c7-de7d-4490-a28b-c58d7fd76794"
      },
      "source": [
        "# Ajustamos la red a las imágenes\n",
        "\n",
        "from keras.preprocessing.image import ImageDataGenerator\n",
        "\n",
        "train_datagen = ImageDataGenerator(rescale = 1./255,\n",
        "                                   shear_range = 0.2,\n",
        "                                   zoom_range = 0.2,\n",
        "                                   horizontal_flip = True,\n",
        "                                   rotation_range=20,\n",
        "                                   width_shift_range=0.2,\n",
        "                                   height_shift_range=0.2,\n",
        "                                   brightness_range=(0.2, 0.8)\n",
        "                                   )\n",
        "\n",
        "test_datagen = ImageDataGenerator(rescale = 1./255)\n",
        "\n",
        "training_set = train_datagen.flow_from_directory('/content/RNP-DOCTORADO/DataImages/train',\n",
        "                                                    target_size = (64, 64),\n",
        "                                                    batch_size = 256,\n",
        "                                                    class_mode = 'categorical')\n",
        "\n",
        "test_set = test_datagen.flow_from_directory('/content/RNP-DOCTORADO/DataImages/validation',\n",
        "                                            target_size = (64, 64),\n",
        "                                            batch_size = 256,\n",
        "                                            class_mode = 'categorical')\n",
        "\n",
        "history = classifier.fit_generator(training_set,\n",
        "                            epochs = 25,\n",
        "                            validation_data = test_set,\n",
        "                            verbose=1)\n"
      ],
      "execution_count": 12,
      "outputs": [
        {
          "output_type": "stream",
          "text": [
            "Found 100000 images belonging to 200 classes.\n",
            "Found 10000 images belonging to 200 classes.\n"
          ],
          "name": "stdout"
        },
        {
          "output_type": "stream",
          "text": [
            "/usr/local/lib/python3.6/dist-packages/tensorflow/python/keras/engine/training.py:1844: UserWarning: `Model.fit_generator` is deprecated and will be removed in a future version. Please use `Model.fit`, which supports generators.\n",
            "  warnings.warn('`Model.fit_generator` is deprecated and '\n"
          ],
          "name": "stderr"
        },
        {
          "output_type": "stream",
          "text": [
            "Epoch 1/25\n",
            "391/391 [==============================] - 191s 482ms/step - loss: 5.2169 - accuracy: 0.0102 - val_loss: 4.8340 - val_accuracy: 0.0424\n",
            "Epoch 2/25\n",
            "391/391 [==============================] - 186s 476ms/step - loss: 4.8523 - accuracy: 0.0403 - val_loss: 4.6033 - val_accuracy: 0.0793\n",
            "Epoch 3/25\n",
            "391/391 [==============================] - 186s 476ms/step - loss: 4.5644 - accuracy: 0.0701 - val_loss: 4.3727 - val_accuracy: 0.1039\n",
            "Epoch 4/25\n",
            "391/391 [==============================] - 185s 474ms/step - loss: 4.3732 - accuracy: 0.0953 - val_loss: 4.2515 - val_accuracy: 0.1108\n",
            "Epoch 5/25\n",
            "391/391 [==============================] - 186s 474ms/step - loss: 4.2392 - accuracy: 0.1125 - val_loss: 4.2844 - val_accuracy: 0.1234\n",
            "Epoch 6/25\n",
            "391/391 [==============================] - 186s 475ms/step - loss: 4.1196 - accuracy: 0.1277 - val_loss: 4.0953 - val_accuracy: 0.1449\n",
            "Epoch 7/25\n",
            "391/391 [==============================] - 186s 476ms/step - loss: 4.0109 - accuracy: 0.1408 - val_loss: 4.0668 - val_accuracy: 0.1488\n",
            "Epoch 8/25\n",
            "391/391 [==============================] - 186s 475ms/step - loss: 3.9502 - accuracy: 0.1509 - val_loss: 3.9078 - val_accuracy: 0.1726\n",
            "Epoch 9/25\n",
            "391/391 [==============================] - 186s 475ms/step - loss: 3.8745 - accuracy: 0.1611 - val_loss: 4.1136 - val_accuracy: 0.1533\n",
            "Epoch 10/25\n",
            "391/391 [==============================] - 186s 476ms/step - loss: 3.8135 - accuracy: 0.1710 - val_loss: 4.0797 - val_accuracy: 0.1600\n",
            "Epoch 11/25\n",
            "391/391 [==============================] - 185s 473ms/step - loss: 3.7485 - accuracy: 0.1797 - val_loss: 3.9865 - val_accuracy: 0.1641\n",
            "Epoch 12/25\n",
            "391/391 [==============================] - 185s 473ms/step - loss: 3.7125 - accuracy: 0.1861 - val_loss: 3.9861 - val_accuracy: 0.1724\n",
            "Epoch 13/25\n",
            " 64/391 [===>..........................] - ETA: 2:31 - loss: 3.6591 - accuracy: 0.1957"
          ],
          "name": "stdout"
        },
        {
          "output_type": "error",
          "ename": "KeyboardInterrupt",
          "evalue": "ignored",
          "traceback": [
            "\u001b[0;31m---------------------------------------------------------------------------\u001b[0m",
            "\u001b[0;31mKeyboardInterrupt\u001b[0m                         Traceback (most recent call last)",
            "\u001b[0;32m<ipython-input-12-7ac0e05576be>\u001b[0m in \u001b[0;36m<module>\u001b[0;34m()\u001b[0m\n\u001b[1;32m     28\u001b[0m                             \u001b[0mepochs\u001b[0m \u001b[0;34m=\u001b[0m \u001b[0;36m25\u001b[0m\u001b[0;34m,\u001b[0m\u001b[0;34m\u001b[0m\u001b[0;34m\u001b[0m\u001b[0m\n\u001b[1;32m     29\u001b[0m                             \u001b[0mvalidation_data\u001b[0m \u001b[0;34m=\u001b[0m \u001b[0mtest_set\u001b[0m\u001b[0;34m,\u001b[0m\u001b[0;34m\u001b[0m\u001b[0;34m\u001b[0m\u001b[0m\n\u001b[0;32m---> 30\u001b[0;31m                             verbose=1)\n\u001b[0m",
            "\u001b[0;32m/usr/local/lib/python3.6/dist-packages/tensorflow/python/keras/engine/training.py\u001b[0m in \u001b[0;36mfit_generator\u001b[0;34m(self, generator, steps_per_epoch, epochs, verbose, callbacks, validation_data, validation_steps, validation_freq, class_weight, max_queue_size, workers, use_multiprocessing, shuffle, initial_epoch)\u001b[0m\n\u001b[1;32m   1859\u001b[0m         \u001b[0muse_multiprocessing\u001b[0m\u001b[0;34m=\u001b[0m\u001b[0muse_multiprocessing\u001b[0m\u001b[0;34m,\u001b[0m\u001b[0;34m\u001b[0m\u001b[0;34m\u001b[0m\u001b[0m\n\u001b[1;32m   1860\u001b[0m         \u001b[0mshuffle\u001b[0m\u001b[0;34m=\u001b[0m\u001b[0mshuffle\u001b[0m\u001b[0;34m,\u001b[0m\u001b[0;34m\u001b[0m\u001b[0;34m\u001b[0m\u001b[0m\n\u001b[0;32m-> 1861\u001b[0;31m         initial_epoch=initial_epoch)\n\u001b[0m\u001b[1;32m   1862\u001b[0m \u001b[0;34m\u001b[0m\u001b[0m\n\u001b[1;32m   1863\u001b[0m   def evaluate_generator(self,\n",
            "\u001b[0;32m/usr/local/lib/python3.6/dist-packages/tensorflow/python/keras/engine/training.py\u001b[0m in \u001b[0;36mfit\u001b[0;34m(self, x, y, batch_size, epochs, verbose, callbacks, validation_split, validation_data, shuffle, class_weight, sample_weight, initial_epoch, steps_per_epoch, validation_steps, validation_batch_size, validation_freq, max_queue_size, workers, use_multiprocessing)\u001b[0m\n\u001b[1;32m   1103\u001b[0m               \u001b[0mlogs\u001b[0m \u001b[0;34m=\u001b[0m \u001b[0mtmp_logs\u001b[0m  \u001b[0;31m# No error, now safe to assign to logs.\u001b[0m\u001b[0;34m\u001b[0m\u001b[0;34m\u001b[0m\u001b[0m\n\u001b[1;32m   1104\u001b[0m               \u001b[0mend_step\u001b[0m \u001b[0;34m=\u001b[0m \u001b[0mstep\u001b[0m \u001b[0;34m+\u001b[0m \u001b[0mdata_handler\u001b[0m\u001b[0;34m.\u001b[0m\u001b[0mstep_increment\u001b[0m\u001b[0;34m\u001b[0m\u001b[0;34m\u001b[0m\u001b[0m\n\u001b[0;32m-> 1105\u001b[0;31m               \u001b[0mcallbacks\u001b[0m\u001b[0;34m.\u001b[0m\u001b[0mon_train_batch_end\u001b[0m\u001b[0;34m(\u001b[0m\u001b[0mend_step\u001b[0m\u001b[0;34m,\u001b[0m \u001b[0mlogs\u001b[0m\u001b[0;34m)\u001b[0m\u001b[0;34m\u001b[0m\u001b[0;34m\u001b[0m\u001b[0m\n\u001b[0m\u001b[1;32m   1106\u001b[0m               \u001b[0;32mif\u001b[0m \u001b[0mself\u001b[0m\u001b[0;34m.\u001b[0m\u001b[0mstop_training\u001b[0m\u001b[0;34m:\u001b[0m\u001b[0;34m\u001b[0m\u001b[0;34m\u001b[0m\u001b[0m\n\u001b[1;32m   1107\u001b[0m                 \u001b[0;32mbreak\u001b[0m\u001b[0;34m\u001b[0m\u001b[0;34m\u001b[0m\u001b[0m\n",
            "\u001b[0;32m/usr/local/lib/python3.6/dist-packages/tensorflow/python/keras/callbacks.py\u001b[0m in \u001b[0;36mon_train_batch_end\u001b[0;34m(self, batch, logs)\u001b[0m\n\u001b[1;32m    452\u001b[0m     \"\"\"\n\u001b[1;32m    453\u001b[0m     \u001b[0;32mif\u001b[0m \u001b[0mself\u001b[0m\u001b[0;34m.\u001b[0m\u001b[0m_should_call_train_batch_hooks\u001b[0m\u001b[0;34m:\u001b[0m\u001b[0;34m\u001b[0m\u001b[0;34m\u001b[0m\u001b[0m\n\u001b[0;32m--> 454\u001b[0;31m       \u001b[0mself\u001b[0m\u001b[0;34m.\u001b[0m\u001b[0m_call_batch_hook\u001b[0m\u001b[0;34m(\u001b[0m\u001b[0mModeKeys\u001b[0m\u001b[0;34m.\u001b[0m\u001b[0mTRAIN\u001b[0m\u001b[0;34m,\u001b[0m \u001b[0;34m'end'\u001b[0m\u001b[0;34m,\u001b[0m \u001b[0mbatch\u001b[0m\u001b[0;34m,\u001b[0m \u001b[0mlogs\u001b[0m\u001b[0;34m=\u001b[0m\u001b[0mlogs\u001b[0m\u001b[0;34m)\u001b[0m\u001b[0;34m\u001b[0m\u001b[0;34m\u001b[0m\u001b[0m\n\u001b[0m\u001b[1;32m    455\u001b[0m \u001b[0;34m\u001b[0m\u001b[0m\n\u001b[1;32m    456\u001b[0m   \u001b[0;32mdef\u001b[0m \u001b[0mon_test_batch_begin\u001b[0m\u001b[0;34m(\u001b[0m\u001b[0mself\u001b[0m\u001b[0;34m,\u001b[0m \u001b[0mbatch\u001b[0m\u001b[0;34m,\u001b[0m \u001b[0mlogs\u001b[0m\u001b[0;34m=\u001b[0m\u001b[0;32mNone\u001b[0m\u001b[0;34m)\u001b[0m\u001b[0;34m:\u001b[0m\u001b[0;34m\u001b[0m\u001b[0;34m\u001b[0m\u001b[0m\n",
            "\u001b[0;32m/usr/local/lib/python3.6/dist-packages/tensorflow/python/keras/callbacks.py\u001b[0m in \u001b[0;36m_call_batch_hook\u001b[0;34m(self, mode, hook, batch, logs)\u001b[0m\n\u001b[1;32m    294\u001b[0m       \u001b[0mself\u001b[0m\u001b[0;34m.\u001b[0m\u001b[0m_call_batch_begin_hook\u001b[0m\u001b[0;34m(\u001b[0m\u001b[0mmode\u001b[0m\u001b[0;34m,\u001b[0m \u001b[0mbatch\u001b[0m\u001b[0;34m,\u001b[0m \u001b[0mlogs\u001b[0m\u001b[0;34m)\u001b[0m\u001b[0;34m\u001b[0m\u001b[0;34m\u001b[0m\u001b[0m\n\u001b[1;32m    295\u001b[0m     \u001b[0;32melif\u001b[0m \u001b[0mhook\u001b[0m \u001b[0;34m==\u001b[0m \u001b[0;34m'end'\u001b[0m\u001b[0;34m:\u001b[0m\u001b[0;34m\u001b[0m\u001b[0;34m\u001b[0m\u001b[0m\n\u001b[0;32m--> 296\u001b[0;31m       \u001b[0mself\u001b[0m\u001b[0;34m.\u001b[0m\u001b[0m_call_batch_end_hook\u001b[0m\u001b[0;34m(\u001b[0m\u001b[0mmode\u001b[0m\u001b[0;34m,\u001b[0m \u001b[0mbatch\u001b[0m\u001b[0;34m,\u001b[0m \u001b[0mlogs\u001b[0m\u001b[0;34m)\u001b[0m\u001b[0;34m\u001b[0m\u001b[0;34m\u001b[0m\u001b[0m\n\u001b[0m\u001b[1;32m    297\u001b[0m     \u001b[0;32melse\u001b[0m\u001b[0;34m:\u001b[0m\u001b[0;34m\u001b[0m\u001b[0;34m\u001b[0m\u001b[0m\n\u001b[1;32m    298\u001b[0m       \u001b[0;32mraise\u001b[0m \u001b[0mValueError\u001b[0m\u001b[0;34m(\u001b[0m\u001b[0;34m'Unrecognized hook: {}'\u001b[0m\u001b[0;34m.\u001b[0m\u001b[0mformat\u001b[0m\u001b[0;34m(\u001b[0m\u001b[0mhook\u001b[0m\u001b[0;34m)\u001b[0m\u001b[0;34m)\u001b[0m\u001b[0;34m\u001b[0m\u001b[0;34m\u001b[0m\u001b[0m\n",
            "\u001b[0;32m/usr/local/lib/python3.6/dist-packages/tensorflow/python/keras/callbacks.py\u001b[0m in \u001b[0;36m_call_batch_end_hook\u001b[0;34m(self, mode, batch, logs)\u001b[0m\n\u001b[1;32m    314\u001b[0m       \u001b[0mself\u001b[0m\u001b[0;34m.\u001b[0m\u001b[0m_batch_times\u001b[0m\u001b[0;34m.\u001b[0m\u001b[0mappend\u001b[0m\u001b[0;34m(\u001b[0m\u001b[0mbatch_time\u001b[0m\u001b[0;34m)\u001b[0m\u001b[0;34m\u001b[0m\u001b[0;34m\u001b[0m\u001b[0m\n\u001b[1;32m    315\u001b[0m \u001b[0;34m\u001b[0m\u001b[0m\n\u001b[0;32m--> 316\u001b[0;31m     \u001b[0mself\u001b[0m\u001b[0;34m.\u001b[0m\u001b[0m_call_batch_hook_helper\u001b[0m\u001b[0;34m(\u001b[0m\u001b[0mhook_name\u001b[0m\u001b[0;34m,\u001b[0m \u001b[0mbatch\u001b[0m\u001b[0;34m,\u001b[0m \u001b[0mlogs\u001b[0m\u001b[0;34m)\u001b[0m\u001b[0;34m\u001b[0m\u001b[0;34m\u001b[0m\u001b[0m\n\u001b[0m\u001b[1;32m    317\u001b[0m \u001b[0;34m\u001b[0m\u001b[0m\n\u001b[1;32m    318\u001b[0m     \u001b[0;32mif\u001b[0m \u001b[0mlen\u001b[0m\u001b[0;34m(\u001b[0m\u001b[0mself\u001b[0m\u001b[0;34m.\u001b[0m\u001b[0m_batch_times\u001b[0m\u001b[0;34m)\u001b[0m \u001b[0;34m>=\u001b[0m \u001b[0mself\u001b[0m\u001b[0;34m.\u001b[0m\u001b[0m_num_batches_for_timing_check\u001b[0m\u001b[0;34m:\u001b[0m\u001b[0;34m\u001b[0m\u001b[0;34m\u001b[0m\u001b[0m\n",
            "\u001b[0;32m/usr/local/lib/python3.6/dist-packages/tensorflow/python/keras/callbacks.py\u001b[0m in \u001b[0;36m_call_batch_hook_helper\u001b[0;34m(self, hook_name, batch, logs)\u001b[0m\n\u001b[1;32m    354\u001b[0m       \u001b[0mhook\u001b[0m \u001b[0;34m=\u001b[0m \u001b[0mgetattr\u001b[0m\u001b[0;34m(\u001b[0m\u001b[0mcallback\u001b[0m\u001b[0;34m,\u001b[0m \u001b[0mhook_name\u001b[0m\u001b[0;34m)\u001b[0m\u001b[0;34m\u001b[0m\u001b[0;34m\u001b[0m\u001b[0m\n\u001b[1;32m    355\u001b[0m       \u001b[0;32mif\u001b[0m \u001b[0mgetattr\u001b[0m\u001b[0;34m(\u001b[0m\u001b[0mcallback\u001b[0m\u001b[0;34m,\u001b[0m \u001b[0;34m'_supports_tf_logs'\u001b[0m\u001b[0;34m,\u001b[0m \u001b[0;32mFalse\u001b[0m\u001b[0;34m)\u001b[0m\u001b[0;34m:\u001b[0m\u001b[0;34m\u001b[0m\u001b[0;34m\u001b[0m\u001b[0m\n\u001b[0;32m--> 356\u001b[0;31m         \u001b[0mhook\u001b[0m\u001b[0;34m(\u001b[0m\u001b[0mbatch\u001b[0m\u001b[0;34m,\u001b[0m \u001b[0mlogs\u001b[0m\u001b[0;34m)\u001b[0m\u001b[0;34m\u001b[0m\u001b[0;34m\u001b[0m\u001b[0m\n\u001b[0m\u001b[1;32m    357\u001b[0m       \u001b[0;32melse\u001b[0m\u001b[0;34m:\u001b[0m\u001b[0;34m\u001b[0m\u001b[0;34m\u001b[0m\u001b[0m\n\u001b[1;32m    358\u001b[0m         \u001b[0;32mif\u001b[0m \u001b[0mnumpy_logs\u001b[0m \u001b[0;32mis\u001b[0m \u001b[0;32mNone\u001b[0m\u001b[0;34m:\u001b[0m  \u001b[0;31m# Only convert once.\u001b[0m\u001b[0;34m\u001b[0m\u001b[0;34m\u001b[0m\u001b[0m\n",
            "\u001b[0;32m/usr/local/lib/python3.6/dist-packages/tensorflow/python/keras/callbacks.py\u001b[0m in \u001b[0;36mon_train_batch_end\u001b[0;34m(self, batch, logs)\u001b[0m\n\u001b[1;32m   1018\u001b[0m \u001b[0;34m\u001b[0m\u001b[0m\n\u001b[1;32m   1019\u001b[0m   \u001b[0;32mdef\u001b[0m \u001b[0mon_train_batch_end\u001b[0m\u001b[0;34m(\u001b[0m\u001b[0mself\u001b[0m\u001b[0;34m,\u001b[0m \u001b[0mbatch\u001b[0m\u001b[0;34m,\u001b[0m \u001b[0mlogs\u001b[0m\u001b[0;34m=\u001b[0m\u001b[0;32mNone\u001b[0m\u001b[0;34m)\u001b[0m\u001b[0;34m:\u001b[0m\u001b[0;34m\u001b[0m\u001b[0;34m\u001b[0m\u001b[0m\n\u001b[0;32m-> 1020\u001b[0;31m     \u001b[0mself\u001b[0m\u001b[0;34m.\u001b[0m\u001b[0m_batch_update_progbar\u001b[0m\u001b[0;34m(\u001b[0m\u001b[0mbatch\u001b[0m\u001b[0;34m,\u001b[0m \u001b[0mlogs\u001b[0m\u001b[0;34m)\u001b[0m\u001b[0;34m\u001b[0m\u001b[0;34m\u001b[0m\u001b[0m\n\u001b[0m\u001b[1;32m   1021\u001b[0m \u001b[0;34m\u001b[0m\u001b[0m\n\u001b[1;32m   1022\u001b[0m   \u001b[0;32mdef\u001b[0m \u001b[0mon_test_batch_end\u001b[0m\u001b[0;34m(\u001b[0m\u001b[0mself\u001b[0m\u001b[0;34m,\u001b[0m \u001b[0mbatch\u001b[0m\u001b[0;34m,\u001b[0m \u001b[0mlogs\u001b[0m\u001b[0;34m=\u001b[0m\u001b[0;32mNone\u001b[0m\u001b[0;34m)\u001b[0m\u001b[0;34m:\u001b[0m\u001b[0;34m\u001b[0m\u001b[0;34m\u001b[0m\u001b[0m\n",
            "\u001b[0;32m/usr/local/lib/python3.6/dist-packages/tensorflow/python/keras/callbacks.py\u001b[0m in \u001b[0;36m_batch_update_progbar\u001b[0;34m(self, batch, logs)\u001b[0m\n\u001b[1;32m   1082\u001b[0m     \u001b[0;32mif\u001b[0m \u001b[0mself\u001b[0m\u001b[0;34m.\u001b[0m\u001b[0mverbose\u001b[0m \u001b[0;34m==\u001b[0m \u001b[0;36m1\u001b[0m\u001b[0;34m:\u001b[0m\u001b[0;34m\u001b[0m\u001b[0;34m\u001b[0m\u001b[0m\n\u001b[1;32m   1083\u001b[0m       \u001b[0;31m# Only block async when verbose = 1.\u001b[0m\u001b[0;34m\u001b[0m\u001b[0;34m\u001b[0m\u001b[0;34m\u001b[0m\u001b[0m\n\u001b[0;32m-> 1084\u001b[0;31m       \u001b[0mlogs\u001b[0m \u001b[0;34m=\u001b[0m \u001b[0mtf_utils\u001b[0m\u001b[0;34m.\u001b[0m\u001b[0mto_numpy_or_python_type\u001b[0m\u001b[0;34m(\u001b[0m\u001b[0mlogs\u001b[0m\u001b[0;34m)\u001b[0m\u001b[0;34m\u001b[0m\u001b[0;34m\u001b[0m\u001b[0m\n\u001b[0m\u001b[1;32m   1085\u001b[0m       \u001b[0mself\u001b[0m\u001b[0;34m.\u001b[0m\u001b[0mprogbar\u001b[0m\u001b[0;34m.\u001b[0m\u001b[0mupdate\u001b[0m\u001b[0;34m(\u001b[0m\u001b[0mself\u001b[0m\u001b[0;34m.\u001b[0m\u001b[0mseen\u001b[0m\u001b[0;34m,\u001b[0m \u001b[0mlist\u001b[0m\u001b[0;34m(\u001b[0m\u001b[0mlogs\u001b[0m\u001b[0;34m.\u001b[0m\u001b[0mitems\u001b[0m\u001b[0;34m(\u001b[0m\u001b[0;34m)\u001b[0m\u001b[0;34m)\u001b[0m\u001b[0;34m,\u001b[0m \u001b[0mfinalize\u001b[0m\u001b[0;34m=\u001b[0m\u001b[0;32mFalse\u001b[0m\u001b[0;34m)\u001b[0m\u001b[0;34m\u001b[0m\u001b[0;34m\u001b[0m\u001b[0m\n\u001b[1;32m   1086\u001b[0m \u001b[0;34m\u001b[0m\u001b[0m\n",
            "\u001b[0;32m/usr/local/lib/python3.6/dist-packages/tensorflow/python/keras/utils/tf_utils.py\u001b[0m in \u001b[0;36mto_numpy_or_python_type\u001b[0;34m(tensors)\u001b[0m\n\u001b[1;32m    512\u001b[0m     \u001b[0;32mreturn\u001b[0m \u001b[0mt\u001b[0m  \u001b[0;31m# Don't turn ragged or sparse tensors to NumPy.\u001b[0m\u001b[0;34m\u001b[0m\u001b[0;34m\u001b[0m\u001b[0m\n\u001b[1;32m    513\u001b[0m \u001b[0;34m\u001b[0m\u001b[0m\n\u001b[0;32m--> 514\u001b[0;31m   \u001b[0;32mreturn\u001b[0m \u001b[0mnest\u001b[0m\u001b[0;34m.\u001b[0m\u001b[0mmap_structure\u001b[0m\u001b[0;34m(\u001b[0m\u001b[0m_to_single_numpy_or_python_type\u001b[0m\u001b[0;34m,\u001b[0m \u001b[0mtensors\u001b[0m\u001b[0;34m)\u001b[0m\u001b[0;34m\u001b[0m\u001b[0;34m\u001b[0m\u001b[0m\n\u001b[0m\u001b[1;32m    515\u001b[0m \u001b[0;34m\u001b[0m\u001b[0m\n\u001b[1;32m    516\u001b[0m \u001b[0;34m\u001b[0m\u001b[0m\n",
            "\u001b[0;32m/usr/local/lib/python3.6/dist-packages/tensorflow/python/util/nest.py\u001b[0m in \u001b[0;36mmap_structure\u001b[0;34m(func, *structure, **kwargs)\u001b[0m\n\u001b[1;32m    657\u001b[0m \u001b[0;34m\u001b[0m\u001b[0m\n\u001b[1;32m    658\u001b[0m   return pack_sequence_as(\n\u001b[0;32m--> 659\u001b[0;31m       \u001b[0mstructure\u001b[0m\u001b[0;34m[\u001b[0m\u001b[0;36m0\u001b[0m\u001b[0;34m]\u001b[0m\u001b[0;34m,\u001b[0m \u001b[0;34m[\u001b[0m\u001b[0mfunc\u001b[0m\u001b[0;34m(\u001b[0m\u001b[0;34m*\u001b[0m\u001b[0mx\u001b[0m\u001b[0;34m)\u001b[0m \u001b[0;32mfor\u001b[0m \u001b[0mx\u001b[0m \u001b[0;32min\u001b[0m \u001b[0mentries\u001b[0m\u001b[0;34m]\u001b[0m\u001b[0;34m,\u001b[0m\u001b[0;34m\u001b[0m\u001b[0;34m\u001b[0m\u001b[0m\n\u001b[0m\u001b[1;32m    660\u001b[0m       expand_composites=expand_composites)\n\u001b[1;32m    661\u001b[0m \u001b[0;34m\u001b[0m\u001b[0m\n",
            "\u001b[0;32m/usr/local/lib/python3.6/dist-packages/tensorflow/python/util/nest.py\u001b[0m in \u001b[0;36m<listcomp>\u001b[0;34m(.0)\u001b[0m\n\u001b[1;32m    657\u001b[0m \u001b[0;34m\u001b[0m\u001b[0m\n\u001b[1;32m    658\u001b[0m   return pack_sequence_as(\n\u001b[0;32m--> 659\u001b[0;31m       \u001b[0mstructure\u001b[0m\u001b[0;34m[\u001b[0m\u001b[0;36m0\u001b[0m\u001b[0;34m]\u001b[0m\u001b[0;34m,\u001b[0m \u001b[0;34m[\u001b[0m\u001b[0mfunc\u001b[0m\u001b[0;34m(\u001b[0m\u001b[0;34m*\u001b[0m\u001b[0mx\u001b[0m\u001b[0;34m)\u001b[0m \u001b[0;32mfor\u001b[0m \u001b[0mx\u001b[0m \u001b[0;32min\u001b[0m \u001b[0mentries\u001b[0m\u001b[0;34m]\u001b[0m\u001b[0;34m,\u001b[0m\u001b[0;34m\u001b[0m\u001b[0;34m\u001b[0m\u001b[0m\n\u001b[0m\u001b[1;32m    660\u001b[0m       expand_composites=expand_composites)\n\u001b[1;32m    661\u001b[0m \u001b[0;34m\u001b[0m\u001b[0m\n",
            "\u001b[0;32m/usr/local/lib/python3.6/dist-packages/tensorflow/python/keras/utils/tf_utils.py\u001b[0m in \u001b[0;36m_to_single_numpy_or_python_type\u001b[0;34m(t)\u001b[0m\n\u001b[1;32m    508\u001b[0m   \u001b[0;32mdef\u001b[0m \u001b[0m_to_single_numpy_or_python_type\u001b[0m\u001b[0;34m(\u001b[0m\u001b[0mt\u001b[0m\u001b[0;34m)\u001b[0m\u001b[0;34m:\u001b[0m\u001b[0;34m\u001b[0m\u001b[0;34m\u001b[0m\u001b[0m\n\u001b[1;32m    509\u001b[0m     \u001b[0;32mif\u001b[0m \u001b[0misinstance\u001b[0m\u001b[0;34m(\u001b[0m\u001b[0mt\u001b[0m\u001b[0;34m,\u001b[0m \u001b[0mops\u001b[0m\u001b[0;34m.\u001b[0m\u001b[0mTensor\u001b[0m\u001b[0;34m)\u001b[0m\u001b[0;34m:\u001b[0m\u001b[0;34m\u001b[0m\u001b[0;34m\u001b[0m\u001b[0m\n\u001b[0;32m--> 510\u001b[0;31m       \u001b[0mx\u001b[0m \u001b[0;34m=\u001b[0m \u001b[0mt\u001b[0m\u001b[0;34m.\u001b[0m\u001b[0mnumpy\u001b[0m\u001b[0;34m(\u001b[0m\u001b[0;34m)\u001b[0m\u001b[0;34m\u001b[0m\u001b[0;34m\u001b[0m\u001b[0m\n\u001b[0m\u001b[1;32m    511\u001b[0m       \u001b[0;32mreturn\u001b[0m \u001b[0mx\u001b[0m\u001b[0;34m.\u001b[0m\u001b[0mitem\u001b[0m\u001b[0;34m(\u001b[0m\u001b[0;34m)\u001b[0m \u001b[0;32mif\u001b[0m \u001b[0mnp\u001b[0m\u001b[0;34m.\u001b[0m\u001b[0mndim\u001b[0m\u001b[0;34m(\u001b[0m\u001b[0mx\u001b[0m\u001b[0;34m)\u001b[0m \u001b[0;34m==\u001b[0m \u001b[0;36m0\u001b[0m \u001b[0;32melse\u001b[0m \u001b[0mx\u001b[0m\u001b[0;34m\u001b[0m\u001b[0;34m\u001b[0m\u001b[0m\n\u001b[1;32m    512\u001b[0m     \u001b[0;32mreturn\u001b[0m \u001b[0mt\u001b[0m  \u001b[0;31m# Don't turn ragged or sparse tensors to NumPy.\u001b[0m\u001b[0;34m\u001b[0m\u001b[0;34m\u001b[0m\u001b[0m\n",
            "\u001b[0;32m/usr/local/lib/python3.6/dist-packages/tensorflow/python/framework/ops.py\u001b[0m in \u001b[0;36mnumpy\u001b[0;34m(self)\u001b[0m\n\u001b[1;32m   1069\u001b[0m     \"\"\"\n\u001b[1;32m   1070\u001b[0m     \u001b[0;31m# TODO(slebedev): Consider avoiding a copy for non-CPU or remote tensors.\u001b[0m\u001b[0;34m\u001b[0m\u001b[0;34m\u001b[0m\u001b[0;34m\u001b[0m\u001b[0m\n\u001b[0;32m-> 1071\u001b[0;31m     \u001b[0mmaybe_arr\u001b[0m \u001b[0;34m=\u001b[0m \u001b[0mself\u001b[0m\u001b[0;34m.\u001b[0m\u001b[0m_numpy\u001b[0m\u001b[0;34m(\u001b[0m\u001b[0;34m)\u001b[0m  \u001b[0;31m# pylint: disable=protected-access\u001b[0m\u001b[0;34m\u001b[0m\u001b[0;34m\u001b[0m\u001b[0m\n\u001b[0m\u001b[1;32m   1072\u001b[0m     \u001b[0;32mreturn\u001b[0m \u001b[0mmaybe_arr\u001b[0m\u001b[0;34m.\u001b[0m\u001b[0mcopy\u001b[0m\u001b[0;34m(\u001b[0m\u001b[0;34m)\u001b[0m \u001b[0;32mif\u001b[0m \u001b[0misinstance\u001b[0m\u001b[0;34m(\u001b[0m\u001b[0mmaybe_arr\u001b[0m\u001b[0;34m,\u001b[0m \u001b[0mnp\u001b[0m\u001b[0;34m.\u001b[0m\u001b[0mndarray\u001b[0m\u001b[0;34m)\u001b[0m \u001b[0;32melse\u001b[0m \u001b[0mmaybe_arr\u001b[0m\u001b[0;34m\u001b[0m\u001b[0;34m\u001b[0m\u001b[0m\n\u001b[1;32m   1073\u001b[0m \u001b[0;34m\u001b[0m\u001b[0m\n",
            "\u001b[0;32m/usr/local/lib/python3.6/dist-packages/tensorflow/python/framework/ops.py\u001b[0m in \u001b[0;36m_numpy\u001b[0;34m(self)\u001b[0m\n\u001b[1;32m   1035\u001b[0m   \u001b[0;32mdef\u001b[0m \u001b[0m_numpy\u001b[0m\u001b[0;34m(\u001b[0m\u001b[0mself\u001b[0m\u001b[0;34m)\u001b[0m\u001b[0;34m:\u001b[0m\u001b[0;34m\u001b[0m\u001b[0;34m\u001b[0m\u001b[0m\n\u001b[1;32m   1036\u001b[0m     \u001b[0;32mtry\u001b[0m\u001b[0;34m:\u001b[0m\u001b[0;34m\u001b[0m\u001b[0;34m\u001b[0m\u001b[0m\n\u001b[0;32m-> 1037\u001b[0;31m       \u001b[0;32mreturn\u001b[0m \u001b[0mself\u001b[0m\u001b[0;34m.\u001b[0m\u001b[0m_numpy_internal\u001b[0m\u001b[0;34m(\u001b[0m\u001b[0;34m)\u001b[0m\u001b[0;34m\u001b[0m\u001b[0;34m\u001b[0m\u001b[0m\n\u001b[0m\u001b[1;32m   1038\u001b[0m     \u001b[0;32mexcept\u001b[0m \u001b[0mcore\u001b[0m\u001b[0;34m.\u001b[0m\u001b[0m_NotOkStatusException\u001b[0m \u001b[0;32mas\u001b[0m \u001b[0me\u001b[0m\u001b[0;34m:\u001b[0m  \u001b[0;31m# pylint: disable=protected-access\u001b[0m\u001b[0;34m\u001b[0m\u001b[0;34m\u001b[0m\u001b[0m\n\u001b[1;32m   1039\u001b[0m       \u001b[0msix\u001b[0m\u001b[0;34m.\u001b[0m\u001b[0mraise_from\u001b[0m\u001b[0;34m(\u001b[0m\u001b[0mcore\u001b[0m\u001b[0;34m.\u001b[0m\u001b[0m_status_to_exception\u001b[0m\u001b[0;34m(\u001b[0m\u001b[0me\u001b[0m\u001b[0;34m.\u001b[0m\u001b[0mcode\u001b[0m\u001b[0;34m,\u001b[0m \u001b[0me\u001b[0m\u001b[0;34m.\u001b[0m\u001b[0mmessage\u001b[0m\u001b[0;34m)\u001b[0m\u001b[0;34m,\u001b[0m \u001b[0;32mNone\u001b[0m\u001b[0;34m)\u001b[0m  \u001b[0;31m# pylint: disable=protected-access\u001b[0m\u001b[0;34m\u001b[0m\u001b[0;34m\u001b[0m\u001b[0m\n",
            "\u001b[0;31mKeyboardInterrupt\u001b[0m: "
          ]
        }
      ]
    },
    {
      "cell_type": "code",
      "metadata": {
        "id": "_rzsfGlZ5DFE"
      },
      "source": [
        "import matplotlib.pyplot as plt\n",
        "\n",
        "print(history.history.keys())\n",
        "# summarize history for accuracy\n",
        "plt.plot(history.history['accuracy'])\n",
        "plt.plot(history.history['val_accuracy'])\n",
        "plt.title('model accuracy')\n",
        "plt.ylabel('accuracy')\n",
        "plt.xlabel('epoch')\n",
        "plt.legend(['train', 'test'], loc='upper left')\n",
        "plt.show()\n",
        "\n",
        "plt.plot(history.history['loss'])\n",
        "plt.plot(history.history['val_loss'])\n",
        "plt.title('model loss')\n",
        "plt.ylabel('loss')\n",
        "plt.xlabel('epoch')\n",
        "plt.legend(['train', 'test'], loc='upper left')\n",
        "plt.show()"
      ],
      "execution_count": null,
      "outputs": []
    },
    {
      "cell_type": "markdown",
      "metadata": {
        "id": "qd-P1Ci83tNr"
      },
      "source": [
        "Los resultados demuestran que tanto el accuracy como el loss tienen una tendencia correcta, suben y se reducen respectivamente. Sin embargo se pueden observar ciertos comprotamientos que quizás se puedan mejorar con otro tipo de tunning en los parámetros o en las arquitecturas.\r\n",
        "\r\n",
        "Lo primero que se puede observar es que tanto el Accuracy como el Loss, tal y como se mencionó previamente su tendencia es a aumentar y a bajar. Los valores del accuracy tienen a ser bajos, rodeando los 25% con 25 epochs. Se considera que el bajo valor del accuracy se vea afectado por la cantidad de clases que tiene el Dataset.\r\n",
        "\r\n",
        "Lo segundo que se puede observar es que tanto el Accuracy como el Loss, tiene algunos picos que descienden y no se puede ver una linea curvilinea como lo sería la linea del Train. Esto se cree que se debe a los tipos de parámetros que se usaron en el DataAugmentation, quizás con un tunning de parámetros distinta pueda conseguir reducir considerablemente o en su totalidad los picos."
      ]
    },
    {
      "cell_type": "markdown",
      "metadata": {
        "id": "o1f1P4mKnE_b"
      },
      "source": [
        "# Modelo Pre-entrenado"
      ]
    },
    {
      "cell_type": "markdown",
      "metadata": {
        "id": "NyJlMl6Z5oeV"
      },
      "source": [
        "Para los modelos Pre-entrenados se utilizó el modelo de VGG16, modelo encontrado en Keras: https://keras.io/api/applications/\r\n",
        "\r\n"
      ]
    },
    {
      "cell_type": "code",
      "metadata": {
        "id": "tfqWhlzhnDuN"
      },
      "source": [
        "from keras.applications.vgg16 import VGG16                                                     \r\n",
        "from keras.applications.inception_resnet_v2 import preprocess_input, decode_predictions\r\n",
        "from keras.preprocessing import image\r\n",
        "from tensorflow.keras.layers import Input\r\n",
        "from tensorflow.keras.models import Model\r\n",
        "from tensorflow.keras.optimizers import SGD\r\n",
        "from tensorflow.keras.layers import Dense, Dropout, GlobalAveragePooling2D\r\n",
        "import numpy as np                      \r\n",
        "\r\n",
        "\r\n",
        "base_model = VGG16(weights='imagenet', include_top=False)\r\n",
        "\r\n",
        "x = base_model.output\r\n",
        "x = GlobalAveragePooling2D()(x)\r\n",
        "x = Dense(1024, activation='relu')(x)\r\n",
        "\r\n",
        "predictions = Dense(200, activation='softmax')(x)\r\n",
        "model = Model(inputs=base_model.input, outputs=predictions)\r\n",
        "\r\n",
        "for layer in base_model.layers:\r\n",
        "    layer.trainable = False\r\n",
        "\r\n",
        "sgd_opt = SGD(lr=0.01, momentum=0.9, decay=0.0, nesterov=True)\r\n",
        "model.compile(optimizer=sgd_opt,\r\n",
        "              loss='categorical_crossentropy',\r\n",
        "              metrics=['accuracy'])\r\n",
        "model.summary()"
      ],
      "execution_count": null,
      "outputs": []
    },
    {
      "cell_type": "code",
      "metadata": {
        "id": "Bcv3Y1qKnzUR"
      },
      "source": [
        "# Ajustamos la red a las imágenes\r\n",
        "import tensorflow as tf\r\n",
        "from keras.preprocessing.image import ImageDataGenerator\r\n",
        "\r\n",
        "train_datagen = ImageDataGenerator(rescale = 1)\r\n",
        "\r\n",
        "test_datagen = ImageDataGenerator(rescale = 1)\r\n",
        "\r\n",
        "training_set = train_datagen.flow_from_directory('/content/RNP-DOCTORADO/DataImages/train',\r\n",
        "                                                 target_size = (64, 64),\r\n",
        "                                                 batch_size = 23,\r\n",
        "                                                 class_mode = 'categorical')\r\n",
        "\r\n",
        "test_set = test_datagen.flow_from_directory('/content/RNP-DOCTORADO/DataImages/validation',\r\n",
        "                                            target_size = (64, 64),\r\n",
        "                                            batch_size = 23,\r\n",
        "                                            class_mode = 'categorical')\r\n",
        "\r\n",
        "\r\n",
        "training_set = tf.keras.preprocessing.image_dataset_from_directory(\r\n",
        "  '/content/RNP-DOCTORADO/DataImages/train',\r\n",
        "  validation_split=0.2,\r\n",
        "  subset=\"training\",\r\n",
        "  seed=123,\r\n",
        "  image_size=(64, 64),\r\n",
        "  batch_size=23,\r\n",
        "  label_mode='categorical')\r\n",
        "\r\n",
        "test_set = tf.keras.preprocessing.image_dataset_from_directory(\r\n",
        "  '/content/RNP-DOCTORADO/DataImages/validation',\r\n",
        "  validation_split=0.2,\r\n",
        "  subset=\"validation\",\r\n",
        "  seed=123,\r\n",
        "  image_size=(64, 64),\r\n",
        "  batch_size=23,\r\n",
        "  label_mode='categorical')\r\n",
        "\r\n",
        "\r\n",
        "history = model.fit(training_set,\r\n",
        "                         epochs = 25,\r\n",
        "                         validation_data = test_set,\r\n",
        "                         verbose=1)\r\n",
        "\r\n",
        "\r\n",
        "for i, layer in enumerate(base_model.layers):\r\n",
        "   print(i, layer.name)\r\n",
        "\r\n",
        "# we chose to train the top 2 inception blocks, i.e. we will freeze\r\n",
        "# the first 249 layers and unfreeze the rest:\r\n",
        "for layer in model.layers[:249]:\r\n",
        "   layer.trainable = False\r\n",
        "for layer in model.layers[249:]:\r\n",
        "   layer.trainable = True\r\n",
        "\r\n",
        "# we need to recompile the model for these modifications to take effect\r\n",
        "# we use SGD with a low learning rate\r\n",
        "from tensorflow.keras.optimizers import SGD\r\n",
        "model.compile(optimizer=SGD(lr=0.0001, momentum=0.9), loss='categorical_crossentropy')\r\n",
        "\r\n",
        "history = model.fit(training_set,\r\n",
        "                         epochs = 5,\r\n",
        "                         validation_data = test_set,\r\n",
        "                         verbose=1)"
      ],
      "execution_count": null,
      "outputs": []
    },
    {
      "cell_type": "code",
      "metadata": {
        "id": "vGjvwwgVn5OV"
      },
      "source": [
        "import matplotlib.pyplot as plt\r\n",
        "\r\n",
        "hist = history\r\n",
        "print(hist.history.keys())\r\n",
        "# summarize history for accuracy\r\n",
        "#plt.plot(hist.history['categorical_crossentropy'])\r\n",
        "#plt.plot(hist.history['val_accuracy'])\r\n",
        "#plt.title('model accuracy')\r\n",
        "#plt.ylabel('accuracy')\r\n",
        "#plt.xlabel('epoch')\r\n",
        "#plt.legend(['train', 'test'], loc='upper left')\r\n",
        "#plt.show()\r\n",
        "\r\n",
        "plt.plot(hist.history['loss'])\r\n",
        "plt.plot(hist.history['val_loss'])\r\n",
        "plt.title('model loss')\r\n",
        "plt.ylabel('loss')\r\n",
        "plt.xlabel('epoch')\r\n",
        "plt.legend(['train', 'test'], loc='upper left')\r\n",
        "plt.show()"
      ],
      "execution_count": null,
      "outputs": []
    },
    {
      "cell_type": "markdown",
      "metadata": {
        "id": "pjtISFJE7H5c"
      },
      "source": [
        "Como se puede observar los valores de Train y Test se mantienen estáticos en 5,277 y 5,270 respectivamente. Se cree que esto se puede deber a que al preprocesado de las imágenes y del modelo pre-entrado se consigue a llegar al punto mínimo o llamemoslo \"valle\" en un descenso del gradiente que es muy difícil salir."
      ]
    }
  ]
}